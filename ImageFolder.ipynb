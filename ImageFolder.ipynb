{
  "nbformat": 4,
  "nbformat_minor": 0,
  "metadata": {
    "colab": {
      "name": "ImageFolder.ipynb",
      "private_outputs": true,
      "provenance": [],
      "collapsed_sections": []
    },
    "kernelspec": {
      "name": "python3",
      "display_name": "Python 3"
    }
  },
  "cells": [
    {
      "cell_type": "code",
      "metadata": {
        "id": "mI5HEAmPIRsk"
      },
      "source": [
        "%cd drive/MyDrive/"
      ],
      "execution_count": null,
      "outputs": []
    },
    {
      "cell_type": "code",
      "metadata": {
        "id": "5NQtuRQpIm4I"
      },
      "source": [
        "import torch\r\n",
        "import torch.nn as nn\r\n",
        "import torchvision.datasets as dsets\r\n",
        "import torchvision.transforms as transforms\r\n",
        "import torch.nn.init"
      ],
      "execution_count": null,
      "outputs": []
    },
    {
      "cell_type": "code",
      "metadata": {
        "id": "wCQvlsHqInc4"
      },
      "source": [
        "device = 'cuda' if torch.cuda.is_available() else 'cpu'\r\n",
        "\r\n",
        "torch.manual_seed(777)\r\n",
        "if device == 'cuda':\r\n",
        "    torch.cuda.manual_seed_all(777)"
      ],
      "execution_count": null,
      "outputs": []
    },
    {
      "cell_type": "code",
      "metadata": {
        "id": "h6-9gIvhuY0o"
      },
      "source": [
        "print(device)"
      ],
      "execution_count": null,
      "outputs": []
    },
    {
      "cell_type": "code",
      "metadata": {
        "id": "wVG1u5U7uafX"
      },
      "source": [
        "learning_rate = 0.001\r\n",
        "training_epochs = 15\r\n",
        "batch_size = 100"
      ],
      "execution_count": null,
      "outputs": []
    },
    {
      "cell_type": "code",
      "metadata": {
        "id": "glZDrFu-ucOQ"
      },
      "source": [
        "mnist_train = dsets.MNIST(root='MNIST_data/', train=True, transform=transforms.ToTensor(), download=True)\r\n",
        "mnist_test = dsets.MNIST(root='MNIST_data/', train=False, transform=transforms.ToTensor(), download=True)"
      ],
      "execution_count": null,
      "outputs": []
    },
    {
      "cell_type": "markdown",
      "metadata": {
        "id": "zfXRR-4cxjEQ"
      },
      "source": [
        "**ImageFoler**"
      ]
    },
    {
      "cell_type": "code",
      "metadata": {
        "id": "xrv7fnMuujVA"
      },
      "source": [
        "import torchvision\r\n",
        "from torchvision import transforms\r\n",
        "from torch.utils.data import DataLoader"
      ],
      "execution_count": null,
      "outputs": []
    },
    {
      "cell_type": "code",
      "metadata": {
        "id": "0YdDne2nxXDh"
      },
      "source": [
        "from matplotlib.pyplot import imshow\r\n",
        "%matplotlib inline"
      ],
      "execution_count": null,
      "outputs": []
    },
    {
      "cell_type": "code",
      "metadata": {
        "id": "qA1Q9NMwxbt3"
      },
      "source": [
        "device = 'cuda' if torch.cuda.is_available() else 'cpu'\r\n",
        "\r\n",
        "torch.manual_seed(777)\r\n",
        "if device == 'cuda':\r\n",
        "    torch.cuda.manual_seed_all(777)"
      ],
      "execution_count": null,
      "outputs": []
    },
    {
      "cell_type": "code",
      "metadata": {
        "id": "pHU0_ER7Gqt1"
      },
      "source": [
        "trans = transforms.Compose([\r\n",
        "                            transforms.ToTensor()\r\n",
        "])\r\n",
        "\r\n",
        "train_data = torchvision.datasets.ImageFolder(root='./custom_data/train_data', transform=trans)"
      ],
      "execution_count": null,
      "outputs": []
    },
    {
      "cell_type": "code",
      "metadata": {
        "id": "WWCgo1yvG61l"
      },
      "source": [
        "data_loader = DataLoader(dataset=train_data, batch_size=8, shuffle=True, num_workers=2)"
      ],
      "execution_count": null,
      "outputs": []
    },
    {
      "cell_type": "code",
      "metadata": {
        "id": "YAC-TYyXHGul"
      },
      "source": [
        "class CNN(nn.Module):\r\n",
        "    def __init__(self):\r\n",
        "        super(CNN, self).__init__()\r\n",
        "        self.layer1 = n.Sequential(\r\n",
        "            nn.Conv2d(3,6,5),\r\n",
        "            nn.ReLU(),\r\n",
        "            nn.MaxPool2d(2)\r\n",
        "        )\r\n",
        "        self.layer2 = nn.Sequential(\r\n",
        "            nn.Conv2d(6,16,5),\r\n",
        "            nn.ReLU(),\\\r\n",
        "            nn.MaxPool2d(2)\r\n",
        "        )\r\n",
        "        self.layer3 = nn.Sequential(\r\n",
        "            nn.Linear(16*13*29, 120),\r\n",
        "            nn.ReLU(),\r\n",
        "            nn.Linear(120,2)\r\n",
        "        )\r\n",
        "\r\n",
        "    def forward(self, x):\r\n",
        "        out = self.layer1(x)\r\n",
        "        out = self.layer2(out)\r\n",
        "        out = out.view(out.shape[0], -1)\r\n",
        "        out = self.layer3(out)\r\n",
        "        return out"
      ],
      "execution_count": null,
      "outputs": []
    },
    {
      "cell_type": "code",
      "metadata": {
        "id": "mzucmbZvICqG"
      },
      "source": [
        "net = CNN().to(device)\r\n",
        "test_input = (torch.Tensor(3,3,64,128)).to(device)\r\n",
        "test_out = net(test_input)"
      ],
      "execution_count": null,
      "outputs": []
    },
    {
      "cell_type": "code",
      "metadata": {
        "id": "fYZuTisYIPmM"
      },
      "source": [
        "optimizer = optim.Adam(net.parameters(), lr=0.0005)\r\n",
        "loss_func = nn.CrossEntropyLoss().to(device)"
      ],
      "execution_count": null,
      "outputs": []
    },
    {
      "cell_type": "code",
      "metadata": {
        "id": "4EYylRvAIdck"
      },
      "source": [
        "total_batch = len(data_loader)\r\n",
        "\r\n",
        "epochs = 7\r\n",
        "for epoch in range(epochs):\r\n",
        "    avg_cost = 0.0\r\n",
        "    for num, data in enumerate(data_loader):\r\n",
        "        imgs, labels = data\r\n",
        "        imgs = imgs.to(device)\r\n",
        "        \r\n",
        "        optimizer.zero_grad()\r\n",
        "        out = net(imgs)\r\n",
        "        loss = loss_func(out, labels)\r\n",
        "        loss.backward()\r\n",
        "        optimizer.step()\r\n",
        "\r\n",
        "        avg_cost += loss / total_batch\r\n",
        "\r\n",
        "    print('[Epoch:{}] costt = {}'.format(epoch+1, avg_cost))\r\n",
        "print('Learning Finished!')"
      ],
      "execution_count": null,
      "outputs": []
    },
    {
      "cell_type": "code",
      "metadata": {
        "id": "XZSImIwLJMB9"
      },
      "source": [
        "torch.save(net.state_dict(), './model/model.pth')"
      ],
      "execution_count": null,
      "outputs": []
    },
    {
      "cell_type": "code",
      "metadata": {
        "id": "8Gr-nmncJR_k"
      },
      "source": [
        "new_net = CNN().to(device)"
      ],
      "execution_count": null,
      "outputs": []
    },
    {
      "cell_type": "code",
      "metadata": {
        "id": "T1FOsCozJU-E"
      },
      "source": [
        "new_net.load_state_dict(torch.load('./model/model.pth'))"
      ],
      "execution_count": null,
      "outputs": []
    },
    {
      "cell_type": "code",
      "metadata": {
        "id": "OLTPMtskJaVc"
      },
      "source": [
        "print(net.layer1[0])\r\n",
        "print(new_net.layer1[0])\r\n",
        "\r\n",
        "print(net.layer1[0].weight[0][0][0])\r\n",
        "print(new_net.layer1[0].weight[0][0][0])\r\n",
        "\r\n",
        "net.layer1[0].weight[0] == new_net.layer1[0].weight[0]"
      ],
      "execution_count": null,
      "outputs": []
    },
    {
      "cell_type": "code",
      "metadata": {
        "id": "UCcDbUzQJuyU"
      },
      "source": [
        "trans = torchvision.transforms.Compose([\r\n",
        "    transforms.Resize((64,128))\r\n",
        "    transform.ToTensor()\r\n",
        "])\r\n",
        "test_data = torchvision.datasets.ImageFolder(root='./custom_data/test_data', transform=trans)"
      ],
      "execution_count": null,
      "outputs": []
    },
    {
      "cell_type": "code",
      "metadata": {
        "id": "NM2Du7uiKHjc"
      },
      "source": [
        "test_set = DataLoader(dataset = test_data, tatch_size=len(test_data))"
      ],
      "execution_count": null,
      "outputs": []
    },
    {
      "cell_type": "code",
      "metadata": {
        "id": "DE33j_reKOak"
      },
      "source": [
        "with torch.no_grad():\r\n",
        "    for num, data in enumerate(test_set):\r\n",
        "        imgs, label = data\r\n",
        "        imgs = imgs.to(device)\r\n",
        "        label = label.to(device)\r\n",
        "\r\n",
        "        prediction = net(imgs)\r\n",
        "\r\n",
        "        correct_prediction = torch.argmax(prediction, 1) == label\r\n",
        "\r\n",
        "        accuracy = correct_prediction.float().mean()\r\n",
        "        print('Accuracy:', accuracy.item())"
      ],
      "execution_count": null,
      "outputs": []
    }
  ]
}