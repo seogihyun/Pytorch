{
  "nbformat": 4,
  "nbformat_minor": 0,
  "metadata": {
    "colab": {
      "name": "Custom_Dataset.ipynb",
      "private_outputs": true,
      "provenance": []
    },
    "kernelspec": {
      "name": "python3",
      "display_name": "Python 3"
    }
  },
  "cells": [
    {
      "cell_type": "code",
      "metadata": {
        "id": "5odOZpfty0Na"
      },
      "source": [
        "import torch\r\n",
        "import torch.nn.functional as F\r\n",
        "\r\n",
        "from torch.utils.data import Dataset\r\n",
        "from torch.utils.data import DataLoader"
      ],
      "execution_count": null,
      "outputs": []
    },
    {
      "cell_type": "code",
      "metadata": {
        "id": "esAXdvM5yAz5"
      },
      "source": [
        "class CustomDataset(torch.utils.data.Dataset):\r\n",
        "    def __init__(self): # 데이터셋의 전처리를 해주는 부분\r\n",
        "\r\n",
        "    def __len__(self): # 데이터셋의 길이. 즉, 총 샘플의 수를 적어주는 부분\r\n",
        "    \r\n",
        "    def __getitem__(self, idx): # 데이터셋에서 특정 1개의 샘플을 가져오는 함수\r\n",
        "    "
      ],
      "execution_count": null,
      "outputs": []
    },
    {
      "cell_type": "code",
      "metadata": {
        "id": "DsWSXsC5zldC"
      },
      "source": [
        "class CustomDataset(Dataset):\r\n",
        "    def __init__(self):\r\n",
        "        self.x_data = [[73, 80, 75],\r\n",
        "                       [93, 88, 93],\r\n",
        "                       [89, 91, 90],\r\n",
        "                       [96, 98, 100],\r\n",
        "                       [73, 66, 70]]\r\n",
        "        self.y_data = [[152], [185], [180], [196], [142]]\r\n",
        "    \r\n",
        "    def __len__(self):\r\n",
        "        return len(self.x_data)\r\n",
        "\r\n",
        "    def __getitem__(self, idx):\r\n",
        "        x = torch.FloatTensor(self.x_data[idx])\r\n",
        "        y = torch.FloatTensor(self.y_data[idx])\r\n",
        "        return x, y"
      ],
      "execution_count": null,
      "outputs": []
    },
    {
      "cell_type": "code",
      "metadata": {
        "id": "xWip2eha3HiO"
      },
      "source": [
        "dataset = CustomDataset()\r\n",
        "dataloader = DataLoader(dataset, batch_size=2, shuffle=True)"
      ],
      "execution_count": null,
      "outputs": []
    },
    {
      "cell_type": "code",
      "metadata": {
        "id": "ImauzrmZ3R0f"
      },
      "source": [
        "model = torch.nn.Linear(3,1)\r\n",
        "optimizer = torch.optim.SGD(model.parameters(), lr=1e-5)"
      ],
      "execution_count": null,
      "outputs": []
    },
    {
      "cell_type": "code",
      "metadata": {
        "id": "ZjDIOT3k3d2Y"
      },
      "source": [
        "nb_epochs = 20\r\n",
        "for epoch in range(nb_epochs + 1):\r\n",
        "    for batch_idx, samples in enumerate(dataloader):\r\n",
        "        x_train, y_train = samples\r\n",
        "        \r\n",
        "        prediction = model(x_train) # H(x) 계산\r\n",
        "\r\n",
        "        cost = F.mse_loss(prediction, y_train)\r\n",
        "        \r\n",
        "        optimizer.zero_grad()\r\n",
        "        cost.backward()\r\n",
        "        optimizer.step()\r\n",
        "\r\n",
        "        print('Epoch {:4d}/{} Batch {}/{} Cost: {:.6f}'.format(epoch, nb_epochs, batch_idx+1, len(dataloader), cost.item()))"
      ],
      "execution_count": null,
      "outputs": []
    },
    {
      "cell_type": "code",
      "metadata": {
        "id": "8dthne3o41uA"
      },
      "source": [
        "new_var = torch.FloatTensor([[73, 80, 75]])\r\n",
        "pred_y = model(new_var)\r\n",
        "print('훈련 후 입력이 73, 80, 75일 때의 예측값 :', pred_y)"
      ],
      "execution_count": null,
      "outputs": []
    },
    {
      "cell_type": "code",
      "metadata": {
        "id": "4YnicjLb5Z4H"
      },
      "source": [
        ""
      ],
      "execution_count": null,
      "outputs": []
    }
  ]
}