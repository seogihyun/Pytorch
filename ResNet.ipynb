{
  "nbformat": 4,
  "nbformat_minor": 0,
  "metadata": {
    "colab": {
      "name": "ResNet.ipynb",
      "private_outputs": true,
      "provenance": []
    },
    "kernelspec": {
      "name": "python3",
      "display_name": "Python 3"
    }
  },
  "cells": [
    {
      "cell_type": "code",
      "metadata": {
        "id": "n-41kmwipTxW"
      },
      "source": [
        "import torch.nn as nn\r\n",
        "import torch.utils.model_zoo as model_zoo\r\n",
        "\r\n",
        "\r\n",
        "__all__ = ['ResNet', 'resnet18', 'resnet34', 'resnet50', 'resnet101',\r\n",
        "           'resnet152']\r\n",
        "\r\n",
        "\r\n",
        "model_urls = {\r\n",
        "    'resnet18': 'https://download.pytorch.org/models/resnet18-5c106cde.pth',\r\n",
        "    'resnet34': 'https://download.pytorch.org/models/resnet34-333f7ec4.pth',\r\n",
        "    'resnet50': 'https://download.pytorch.org/models/resnet50-19c8e357.pth',\r\n",
        "    'resnet101': 'https://download.pytorch.org/models/resnet101-5d3b4d8f.pth',\r\n",
        "    'resnet152': 'https://download.pytorch.org/models/resnet152-b121ed2d.pth',\r\n",
        "}"
      ],
      "execution_count": null,
      "outputs": []
    },
    {
      "cell_type": "code",
      "metadata": {
        "id": "rWIVY4JcppnI"
      },
      "source": [
        "def conv3x3(in_planes, out_planes, stride=1):\r\n",
        "    \"\"\"3x3 convolution with padding\"\"\"\r\n",
        "    return nn.Conv2d(in_planes, out_planes, kernel_size=3, stride=stride, padding=1, bias=False)\r\n",
        "\r\n",
        "def conv1x1(in_planes, out_planes, stride=1):\r\n",
        "    \"\"\"1x1 convolution\"\"\"\r\n",
        "    return nn.Conv2d(in_planes, out_planes, kernel_size=1, stride=stride, bias=False)"
      ],
      "execution_count": null,
      "outputs": []
    },
    {
      "cell_type": "code",
      "metadata": {
        "id": "GxGJfU6xuc1h"
      },
      "source": [
        "class BasicBlock(nn.Module):\r\n",
        "    expansion = 1\r\n",
        "\r\n",
        "    def __init__(self, inplanes, planes, stride=1, downsample=None):\r\n",
        "        super(BasicBlock, self).__init__()\r\n",
        "        self.conv1 = conv3x3(inplanes, planes, stride)\r\n",
        "        self.bn1 = nn.BatchNorm2d(planes)\r\n",
        "        self.relu = nn.ReLU(inplace=True)\r\n",
        "        self.conv2 = conv3x3(planes, planes)\r\n",
        "        self.bn2 = nn.BatchNorm2d(planes)\r\n",
        "        self.downsample = downsample\r\n",
        "        self.stride = stride\r\n",
        "\r\n",
        "    def forward(self, x):\r\n",
        "        identity = x\r\n",
        "\r\n",
        "        out = self.conv1(x) # 3x3 stride = stride\r\n",
        "        out = self.bn1(out)\r\n",
        "        out = self.relu(out)\r\n",
        "\r\n",
        "        out = self.conv2(out) # 3x3 stride = 1\r\n",
        "        out = self.bn2(out)\r\n",
        "        \r\n",
        "        if self.downsample is not None:\r\n",
        "            identity = self.downsample(x)\r\n",
        "\r\n",
        "        out += identity\r\n",
        "        out = self.relu(out)\r\n",
        "\r\n",
        "        return out"
      ],
      "execution_count": null,
      "outputs": []
    },
    {
      "cell_type": "code",
      "metadata": {
        "id": "n6fpsBLVvGt3"
      },
      "source": [
        "class Bottleneck(nn.Module):\r\n",
        "    expansion = 4\r\n",
        "\r\n",
        "    def __init__(self, inplanes, planes, stride=1, downsample=None):\r\n",
        "        super(Bottleneck, self).__init__()\r\n",
        "        self.conv1 = conv1x1(inplanes, planes)\r\n",
        "        self.bn1 = nn.BatchNorm2d(planes)\r\n",
        "        self.conv2 = conv3x3(planes, planes, stride)\r\n",
        "        self.bn2 = nn.BatchNorm2d(planes)\r\n",
        "        self.conv3 = conv1x1(planes, planes * self.expansion)\r\n",
        "        self.bn3 = nn.BatchNorm2d(planes * self.expansion)\r\n",
        "        self.relu = nn.ReLU(inplace=True)\r\n",
        "        self.downsample = downsample\r\n",
        "        self.stride = stride\r\n",
        "\r\n",
        "    def forward(self, x):\r\n",
        "        identity = x\r\n",
        "        \r\n",
        "        out = self.conv1(x) # 1x1 stride = 1\r\n",
        "        out = self.bn1(out)\r\n",
        "        out = self.relu(out)\r\n",
        "\r\n",
        "        out = self.conv2(out) # 3x3 stride = stride\r\n",
        "        out = self.bn2(out)\r\n",
        "        out = self.relu(out)\r\n",
        "\r\n",
        "        out = self.conv3(out) # 1x1 stride = 1\r\n",
        "        out = self.bn3(out)\r\n",
        "\r\n",
        "        if self.downsample is not None:\r\n",
        "            identity = self.downsample(x)\r\n",
        "\r\n",
        "        out += identity\r\n",
        "        out = self.relu(out)\r\n",
        "\r\n",
        "        return out"
      ],
      "execution_count": null,
      "outputs": []
    },
    {
      "cell_type": "code",
      "metadata": {
        "id": "61odat0KyxN4"
      },
      "source": [
        "class ResNet(nn.Module):\r\n",
        "    # model = ResNet(Bottleneck, [3, 4, 6, 3], **kwargs) # resnet50\r\n",
        "    def __init__(self, block, layers, num_classes=1000, zero_init_residual=False):\r\n",
        "        super(ResNet, self).__init__()\r\n",
        "\r\n",
        "        self.inplanes = 64\r\n",
        "        \r\n",
        "        self.conv1 = nn.Conv2d(3, 64, kernel_size=7, stride=2, padding=3, bias=False)\r\n",
        "\r\n",
        "        self.bn1 = nn.BatchNorm2d(64)\r\n",
        "        self.relu = nn.ReLU(inplace=True)\r\n",
        "\r\n",
        "        self.maxpool = nn.MaxPool2d(kernel_size=3, stride=2, padding=1)\r\n",
        "\r\n",
        "        self.layer1 = self._make_layer(block, 64, layers[0]) # 3\r\n",
        "        self.layer2 = self._make_layer(block, 128, layers[1], stride=2) # 4\r\n",
        "        self.layer3 = self._make_layer(block, 256, layers[2], stride=2) # 6\r\n",
        "        self.layer4 = self._make_layer(block, 512, layers[3], stride=2) # 3\r\n",
        "\r\n",
        "        self.avgpool = nn.AdaptiveAvgPool2d((1,1))\r\n",
        "        self.fc = nn.Linear(512 * block.expansion, num_classes)\r\n",
        "\r\n",
        "        for m in self.modules():\r\n",
        "            if isinstance(m, nn.Conv2d):\r\n",
        "                nn.init.kaiming_normal_(m.weight, mode='fan_out', nonlinearity='relu')\r\n",
        "            elif isinstance(m, nn.BatchNorm2d):\r\n",
        "                nn.init.constant_(m.weight, 1)\r\n",
        "                nn.init.constant_(m.bias, 0)\r\n",
        "\r\n",
        "        # Zero-initialize the last BN in each residual branch,\r\n",
        "        # so that the residual branch starts with zeros, and each residual block behaves like an identity.\r\n",
        "        # This improves the model by 0.2~0.3% according to https://arxiv.org/abs/1706.02677\r\n",
        "        if zero_init_residual:\r\n",
        "            for m in self.modules():\r\n",
        "                if isinstance(m, Bottleneck):\r\n",
        "                    nn.init.constant_(m.bn3.weight, 0)\r\n",
        "                elif isinstance(m, BasicBlock):\r\n",
        "                    nn.init.constant_(m.bn2.weight, 0)\r\n",
        "        \r\n",
        "    def _make_layer(self, block, planes, blocks, stride=1):\r\n",
        "\r\n",
        "        downsample = None\r\n",
        "\r\n",
        "        if stride != 1 or self.inplaces != planes * block.expansion:\r\n",
        "            \r\n",
        "            downsample = nn.Sequential(\r\n",
        "                conv1x1(self.inplaces, planes * block.expansion, stride),\r\n",
        "                nn.BatchNorm2d(planes * block.expansion)\r\n",
        "            )\r\n",
        "\r\n",
        "        layers = []\r\n",
        "        layers.append(block(self.inplaces, planes, stride, downsample))\r\n",
        "\r\n",
        "        self.inplaces = planes * block.expansion\r\n",
        "\r\n",
        "        for _ in range(1, blocks):\r\n",
        "            layers.append(block(self.inplaces, planes))\r\n",
        "\r\n",
        "        return nn.Sequential(*layers)\r\n",
        "\r\n",
        "    def forward(self, x):\r\n",
        "        x = self.conv1(x)\r\n",
        "        x = self.bn1(x)\r\n",
        "        x = self.relu(x)\r\n",
        "        x = self.maxpool(x)\r\n",
        "\r\n",
        "        x = self.layer1(x)\r\n",
        "        x = self.layer2(x)\r\n",
        "        x = self.layer3(x)\r\n",
        "        x = self.layer4(x)\r\n",
        "\r\n",
        "        x = self.avgpool(x)\r\n",
        "        x = x.view(x.size(0), -1)\r\n",
        "        x = self.fc(x)\r\n",
        "\r\n",
        "        return x\r\n",
        "\r\n",
        "\r\n"
      ],
      "execution_count": null,
      "outputs": []
    },
    {
      "cell_type": "code",
      "metadata": {
        "id": "lpoKZb_BArUY"
      },
      "source": [
        "def resnet18(pretrained=False, **kwargs):\r\n",
        "\r\n",
        "    model = ResNet(BasicBlock, [2,2,2,2], **kwargs)\r\n",
        "    # if pretrained:\r\n",
        "    #     model.load_state_dict(model_zoo.load_url(model_urls['resnet18']))\r\n",
        "    return model"
      ],
      "execution_count": null,
      "outputs": []
    },
    {
      "cell_type": "code",
      "metadata": {
        "id": "V-LDISyEB2ON"
      },
      "source": [
        "def resnet50(pretrained=False, **kwargs):\r\n",
        "    model = ResNet(Bottleneck, [3,4,6,3], **kwargs)\r\n",
        "    return model"
      ],
      "execution_count": null,
      "outputs": []
    },
    {
      "cell_type": "code",
      "metadata": {
        "id": "hRfDBEaDE7aU"
      },
      "source": [
        ""
      ],
      "execution_count": null,
      "outputs": []
    }
  ]
}