{
  "nbformat": 4,
  "nbformat_minor": 0,
  "metadata": {
    "colab": {
      "name": "Fashion_MNIST_2.ipynb",
      "private_outputs": true,
      "provenance": [],
      "collapsed_sections": []
    },
    "kernelspec": {
      "name": "python3",
      "display_name": "Python 3"
    },
    "accelerator": "GPU"
  },
  "cells": [
    {
      "cell_type": "code",
      "metadata": {
        "id": "jaD58ZuJfulD"
      },
      "source": [
        "import torch\r\n",
        "import torch.nn as nn\r\n",
        "import torch.optim as optim\r\n",
        "import torch.nn.functional as F\r\n",
        "from torchvision import transforms, datasets"
      ],
      "execution_count": null,
      "outputs": []
    },
    {
      "cell_type": "code",
      "metadata": {
        "id": "28sVg-AHgCAh"
      },
      "source": [
        "use_cuda = torch.cuda.is_available()\r\n",
        "device = torch.device('cuda' if use_cuda else 'cpu')"
      ],
      "execution_count": null,
      "outputs": []
    },
    {
      "cell_type": "code",
      "metadata": {
        "id": "HkG05TOMgk43"
      },
      "source": [
        "epochs = 30\r\n",
        "batch_size = 64"
      ],
      "execution_count": null,
      "outputs": []
    },
    {
      "cell_type": "code",
      "metadata": {
        "id": "e5AkMO3BDc5q"
      },
      "source": [
        "transform = transforms.Compose([\r\n",
        "    transforms.ToTensor()\r\n",
        "])\r\n",
        "\r\n",
        "trainset = datasets.FashionMNIST(\r\n",
        "    root = './.data/',\r\n",
        "    train = True,\r\n",
        "    download = True,\r\n",
        "    transform = transform\r\n",
        ")\r\n",
        "testset = datasets.FashionMNIST(\r\n",
        "    root = './.data/',\r\n",
        "    train = False,\r\n",
        "    download = True,\r\n",
        "    transform = transform\r\n",
        ")\r\n",
        "train_loader = torch.utils.data.DataLoader(\r\n",
        "    dataset = trainset,\r\n",
        "    batch_size = batch_size,\r\n",
        "    shuffle = True,\r\n",
        ")\r\n",
        "test_loader = torch.utils.data.DataLoader(\r\n",
        "    dataset = testset,\r\n",
        "    batch_size = batch_size,\r\n",
        "    shuffle = True,\r\n",
        ")"
      ],
      "execution_count": null,
      "outputs": []
    },
    {
      "cell_type": "code",
      "metadata": {
        "id": "pceo1oA8goZf"
      },
      "source": [
        "class Net(nn.Module):\r\n",
        "    def __init__(self):\r\n",
        "        super(Net, self).__init__()\r\n",
        "        self.fc1 = nn.Linear(784, 256)\r\n",
        "        self.fc2 = nn.Linear(256, 128)\r\n",
        "        self.fc3 = nn.Linear(128, 10)\r\n",
        "\r\n",
        "    def forward(self, x):\r\n",
        "        x = x.view(-1, 784)\r\n",
        "        x = F.relu(self.fc1(x))\r\n",
        "        x = F.relu(self.fc2(x))\r\n",
        "        x = self.fc3(x)\r\n",
        "        return x"
      ],
      "execution_count": null,
      "outputs": []
    },
    {
      "cell_type": "code",
      "metadata": {
        "id": "yZqWhN7ghqUg"
      },
      "source": [
        "model = Net().to(device)"
      ],
      "execution_count": null,
      "outputs": []
    },
    {
      "cell_type": "code",
      "metadata": {
        "id": "7yG_7cM5iQkQ"
      },
      "source": [
        "optimizer = optim.SGD(model.parameters(), lr=0.01)"
      ],
      "execution_count": null,
      "outputs": []
    },
    {
      "cell_type": "code",
      "metadata": {
        "id": "aGCCoW16iZS4"
      },
      "source": [
        "def train(model, train_loader, optimizer):\r\n",
        "    model.train()\r\n",
        "    for batch_idx, (data, target) in enumerate(train_loader):\r\n",
        "        data, target = data.to(device), target.to(device)\r\n",
        "    \r\n",
        "        optimizer.zero_grad()\r\n",
        "        output = model(data)\r\n",
        "        loss = F.cross_entropy(output, target)\r\n",
        "        loss.backward()\r\n",
        "        optimizer.step()"
      ],
      "execution_count": null,
      "outputs": []
    },
    {
      "cell_type": "code",
      "metadata": {
        "id": "O6KZUVNVjglC"
      },
      "source": [
        "def evaluate(model, test_loader):\r\n",
        "    model.eval()\r\n",
        "    test_loss = 0\r\n",
        "    correct = 0\r\n",
        "\r\n",
        "    with torch.no_grad():\r\n",
        "        for data, target in test_loader:\r\n",
        "            data, target = data.to(device), target.to(device)\r\n",
        "            output = model(data)\r\n",
        "            # 모든 오차 더하기\r\n",
        "            test_loss += F.cross_entropy(output, target, reduction='sum').item()\r\n",
        "\r\n",
        "            # 가장 큰 값을 가진 클래스가 모델의 예측값\r\n",
        "            # 예측과 정답을 비교하여 일치할 경우 correct에 1을 더함\r\n",
        "            pred = output.max(1, keepdim=True)[1]\r\n",
        "            # .eq() 값이 일치하면 1, 아니면 0\r\n",
        "            # .view_as() target 텐서를 view_as() 함수 안에 들어가는 인수(pred)의 모양대로 다시 정렬\r\n",
        "            correct += pred.eq(target.view_as(pred)).sum().item()\r\n",
        "\r\n",
        "    test_loss /= len(test_loader.dataset)\r\n",
        "    test_accuracy = 100. * correct / len(test_loader.dataset)\r\n",
        "    return test_loss, test_accuracy\r\n"
      ],
      "execution_count": null,
      "outputs": []
    },
    {
      "cell_type": "code",
      "metadata": {
        "id": "-R3xjQRamPcw"
      },
      "source": [
        "for epoch in range(1, epochs + 1):\r\n",
        "    train(model, train_loader, optimizer)\r\n",
        "    test_loss, test_accuracy = evaluate(model, test_loader)\r\n",
        "\r\n",
        "    print('[{}] Test Loss: {:.4f}, Accuracy: {:.2f}%'.format(epoch, test_loss, test_accuracy))"
      ],
      "execution_count": null,
      "outputs": []
    },
    {
      "cell_type": "code",
      "metadata": {
        "id": "fO4q2noWy9Jj"
      },
      "source": [
        ""
      ],
      "execution_count": null,
      "outputs": []
    }
  ]
}