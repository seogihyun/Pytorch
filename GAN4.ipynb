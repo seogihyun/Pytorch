{
  "nbformat": 4,
  "nbformat_minor": 0,
  "metadata": {
    "colab": {
      "name": "GAN3.ipynb",
      "provenance": [],
      "collapsed_sections": []
    },
    "kernelspec": {
      "name": "python3",
      "display_name": "Python 3"
    },
    "language_info": {
      "name": "python"
    },
    "accelerator": "GPU",
    "widgets": {
      "application/vnd.jupyter.widget-state+json": {
        "08b5ba336aca4d70b6b0173cb0eb0460": {
          "model_module": "@jupyter-widgets/controls",
          "model_name": "HBoxModel",
          "state": {
            "_view_name": "HBoxView",
            "_dom_classes": [],
            "_model_name": "HBoxModel",
            "_view_module": "@jupyter-widgets/controls",
            "_model_module_version": "1.5.0",
            "_view_count": null,
            "_view_module_version": "1.5.0",
            "box_style": "",
            "layout": "IPY_MODEL_22e25766bd8b44a199a46ef02aff25a8",
            "_model_module": "@jupyter-widgets/controls",
            "children": [
              "IPY_MODEL_d246b070544a4a0f9ca0985556ffa046",
              "IPY_MODEL_6e35a8e269e6410d812529057b06ce7d"
            ]
          }
        },
        "22e25766bd8b44a199a46ef02aff25a8": {
          "model_module": "@jupyter-widgets/base",
          "model_name": "LayoutModel",
          "state": {
            "_view_name": "LayoutView",
            "grid_template_rows": null,
            "right": null,
            "justify_content": null,
            "_view_module": "@jupyter-widgets/base",
            "overflow": null,
            "_model_module_version": "1.2.0",
            "_view_count": null,
            "flex_flow": null,
            "width": null,
            "min_width": null,
            "border": null,
            "align_items": null,
            "bottom": null,
            "_model_module": "@jupyter-widgets/base",
            "top": null,
            "grid_column": null,
            "overflow_y": null,
            "overflow_x": null,
            "grid_auto_flow": null,
            "grid_area": null,
            "grid_template_columns": null,
            "flex": null,
            "_model_name": "LayoutModel",
            "justify_items": null,
            "grid_row": null,
            "max_height": null,
            "align_content": null,
            "visibility": null,
            "align_self": null,
            "height": null,
            "min_height": null,
            "padding": null,
            "grid_auto_rows": null,
            "grid_gap": null,
            "max_width": null,
            "order": null,
            "_view_module_version": "1.2.0",
            "grid_template_areas": null,
            "object_position": null,
            "object_fit": null,
            "grid_auto_columns": null,
            "margin": null,
            "display": null,
            "left": null
          }
        },
        "d246b070544a4a0f9ca0985556ffa046": {
          "model_module": "@jupyter-widgets/controls",
          "model_name": "FloatProgressModel",
          "state": {
            "_view_name": "ProgressView",
            "style": "IPY_MODEL_ae320cbe402844ee8ecc72052f74c806",
            "_dom_classes": [],
            "description": "",
            "_model_name": "FloatProgressModel",
            "bar_style": "success",
            "max": 26421880,
            "_view_module": "@jupyter-widgets/controls",
            "_model_module_version": "1.5.0",
            "value": 26421880,
            "_view_count": null,
            "_view_module_version": "1.5.0",
            "orientation": "horizontal",
            "min": 0,
            "description_tooltip": null,
            "_model_module": "@jupyter-widgets/controls",
            "layout": "IPY_MODEL_cd5fb16b41304b5886cece9f8e1d1ab2"
          }
        },
        "6e35a8e269e6410d812529057b06ce7d": {
          "model_module": "@jupyter-widgets/controls",
          "model_name": "HTMLModel",
          "state": {
            "_view_name": "HTMLView",
            "style": "IPY_MODEL_0710a48b64af478aa68f293f6dfd1fb8",
            "_dom_classes": [],
            "description": "",
            "_model_name": "HTMLModel",
            "placeholder": "​",
            "_view_module": "@jupyter-widgets/controls",
            "_model_module_version": "1.5.0",
            "value": " 26422272/? [1:38:29&lt;00:00, 4471.41it/s]",
            "_view_count": null,
            "_view_module_version": "1.5.0",
            "description_tooltip": null,
            "_model_module": "@jupyter-widgets/controls",
            "layout": "IPY_MODEL_71945fcacf5e45d79fd8302f1072482d"
          }
        },
        "ae320cbe402844ee8ecc72052f74c806": {
          "model_module": "@jupyter-widgets/controls",
          "model_name": "ProgressStyleModel",
          "state": {
            "_view_name": "StyleView",
            "_model_name": "ProgressStyleModel",
            "description_width": "initial",
            "_view_module": "@jupyter-widgets/base",
            "_model_module_version": "1.5.0",
            "_view_count": null,
            "_view_module_version": "1.2.0",
            "bar_color": null,
            "_model_module": "@jupyter-widgets/controls"
          }
        },
        "cd5fb16b41304b5886cece9f8e1d1ab2": {
          "model_module": "@jupyter-widgets/base",
          "model_name": "LayoutModel",
          "state": {
            "_view_name": "LayoutView",
            "grid_template_rows": null,
            "right": null,
            "justify_content": null,
            "_view_module": "@jupyter-widgets/base",
            "overflow": null,
            "_model_module_version": "1.2.0",
            "_view_count": null,
            "flex_flow": null,
            "width": null,
            "min_width": null,
            "border": null,
            "align_items": null,
            "bottom": null,
            "_model_module": "@jupyter-widgets/base",
            "top": null,
            "grid_column": null,
            "overflow_y": null,
            "overflow_x": null,
            "grid_auto_flow": null,
            "grid_area": null,
            "grid_template_columns": null,
            "flex": null,
            "_model_name": "LayoutModel",
            "justify_items": null,
            "grid_row": null,
            "max_height": null,
            "align_content": null,
            "visibility": null,
            "align_self": null,
            "height": null,
            "min_height": null,
            "padding": null,
            "grid_auto_rows": null,
            "grid_gap": null,
            "max_width": null,
            "order": null,
            "_view_module_version": "1.2.0",
            "grid_template_areas": null,
            "object_position": null,
            "object_fit": null,
            "grid_auto_columns": null,
            "margin": null,
            "display": null,
            "left": null
          }
        },
        "0710a48b64af478aa68f293f6dfd1fb8": {
          "model_module": "@jupyter-widgets/controls",
          "model_name": "DescriptionStyleModel",
          "state": {
            "_view_name": "StyleView",
            "_model_name": "DescriptionStyleModel",
            "description_width": "",
            "_view_module": "@jupyter-widgets/base",
            "_model_module_version": "1.5.0",
            "_view_count": null,
            "_view_module_version": "1.2.0",
            "_model_module": "@jupyter-widgets/controls"
          }
        },
        "71945fcacf5e45d79fd8302f1072482d": {
          "model_module": "@jupyter-widgets/base",
          "model_name": "LayoutModel",
          "state": {
            "_view_name": "LayoutView",
            "grid_template_rows": null,
            "right": null,
            "justify_content": null,
            "_view_module": "@jupyter-widgets/base",
            "overflow": null,
            "_model_module_version": "1.2.0",
            "_view_count": null,
            "flex_flow": null,
            "width": null,
            "min_width": null,
            "border": null,
            "align_items": null,
            "bottom": null,
            "_model_module": "@jupyter-widgets/base",
            "top": null,
            "grid_column": null,
            "overflow_y": null,
            "overflow_x": null,
            "grid_auto_flow": null,
            "grid_area": null,
            "grid_template_columns": null,
            "flex": null,
            "_model_name": "LayoutModel",
            "justify_items": null,
            "grid_row": null,
            "max_height": null,
            "align_content": null,
            "visibility": null,
            "align_self": null,
            "height": null,
            "min_height": null,
            "padding": null,
            "grid_auto_rows": null,
            "grid_gap": null,
            "max_width": null,
            "order": null,
            "_view_module_version": "1.2.0",
            "grid_template_areas": null,
            "object_position": null,
            "object_fit": null,
            "grid_auto_columns": null,
            "margin": null,
            "display": null,
            "left": null
          }
        },
        "755ff11d8b90436ab493114375252774": {
          "model_module": "@jupyter-widgets/controls",
          "model_name": "HBoxModel",
          "state": {
            "_view_name": "HBoxView",
            "_dom_classes": [],
            "_model_name": "HBoxModel",
            "_view_module": "@jupyter-widgets/controls",
            "_model_module_version": "1.5.0",
            "_view_count": null,
            "_view_module_version": "1.5.0",
            "box_style": "",
            "layout": "IPY_MODEL_99b119edd1f5419ab6ec762039ff7a86",
            "_model_module": "@jupyter-widgets/controls",
            "children": [
              "IPY_MODEL_713141f8414f406e89e489bef187104b",
              "IPY_MODEL_6d0e56ad2425496c948922bce126aeff"
            ]
          }
        },
        "99b119edd1f5419ab6ec762039ff7a86": {
          "model_module": "@jupyter-widgets/base",
          "model_name": "LayoutModel",
          "state": {
            "_view_name": "LayoutView",
            "grid_template_rows": null,
            "right": null,
            "justify_content": null,
            "_view_module": "@jupyter-widgets/base",
            "overflow": null,
            "_model_module_version": "1.2.0",
            "_view_count": null,
            "flex_flow": null,
            "width": null,
            "min_width": null,
            "border": null,
            "align_items": null,
            "bottom": null,
            "_model_module": "@jupyter-widgets/base",
            "top": null,
            "grid_column": null,
            "overflow_y": null,
            "overflow_x": null,
            "grid_auto_flow": null,
            "grid_area": null,
            "grid_template_columns": null,
            "flex": null,
            "_model_name": "LayoutModel",
            "justify_items": null,
            "grid_row": null,
            "max_height": null,
            "align_content": null,
            "visibility": null,
            "align_self": null,
            "height": null,
            "min_height": null,
            "padding": null,
            "grid_auto_rows": null,
            "grid_gap": null,
            "max_width": null,
            "order": null,
            "_view_module_version": "1.2.0",
            "grid_template_areas": null,
            "object_position": null,
            "object_fit": null,
            "grid_auto_columns": null,
            "margin": null,
            "display": null,
            "left": null
          }
        },
        "713141f8414f406e89e489bef187104b": {
          "model_module": "@jupyter-widgets/controls",
          "model_name": "FloatProgressModel",
          "state": {
            "_view_name": "ProgressView",
            "style": "IPY_MODEL_42a03d5605474c60bbd5c64781ab565f",
            "_dom_classes": [],
            "description": "",
            "_model_name": "FloatProgressModel",
            "bar_style": "success",
            "max": 29515,
            "_view_module": "@jupyter-widgets/controls",
            "_model_module_version": "1.5.0",
            "value": 29515,
            "_view_count": null,
            "_view_module_version": "1.5.0",
            "orientation": "horizontal",
            "min": 0,
            "description_tooltip": null,
            "_model_module": "@jupyter-widgets/controls",
            "layout": "IPY_MODEL_4a49aef00d774d37819c8a1d97c71ecb"
          }
        },
        "6d0e56ad2425496c948922bce126aeff": {
          "model_module": "@jupyter-widgets/controls",
          "model_name": "HTMLModel",
          "state": {
            "_view_name": "HTMLView",
            "style": "IPY_MODEL_08342e2f16f74392bb4c129232e8d437",
            "_dom_classes": [],
            "description": "",
            "_model_name": "HTMLModel",
            "placeholder": "​",
            "_view_module": "@jupyter-widgets/controls",
            "_model_module_version": "1.5.0",
            "value": " 29696/? [00:00&lt;00:00, 113307.49it/s]",
            "_view_count": null,
            "_view_module_version": "1.5.0",
            "description_tooltip": null,
            "_model_module": "@jupyter-widgets/controls",
            "layout": "IPY_MODEL_4b1ac9a1bd864f0aa81e4a7ab257b375"
          }
        },
        "42a03d5605474c60bbd5c64781ab565f": {
          "model_module": "@jupyter-widgets/controls",
          "model_name": "ProgressStyleModel",
          "state": {
            "_view_name": "StyleView",
            "_model_name": "ProgressStyleModel",
            "description_width": "initial",
            "_view_module": "@jupyter-widgets/base",
            "_model_module_version": "1.5.0",
            "_view_count": null,
            "_view_module_version": "1.2.0",
            "bar_color": null,
            "_model_module": "@jupyter-widgets/controls"
          }
        },
        "4a49aef00d774d37819c8a1d97c71ecb": {
          "model_module": "@jupyter-widgets/base",
          "model_name": "LayoutModel",
          "state": {
            "_view_name": "LayoutView",
            "grid_template_rows": null,
            "right": null,
            "justify_content": null,
            "_view_module": "@jupyter-widgets/base",
            "overflow": null,
            "_model_module_version": "1.2.0",
            "_view_count": null,
            "flex_flow": null,
            "width": null,
            "min_width": null,
            "border": null,
            "align_items": null,
            "bottom": null,
            "_model_module": "@jupyter-widgets/base",
            "top": null,
            "grid_column": null,
            "overflow_y": null,
            "overflow_x": null,
            "grid_auto_flow": null,
            "grid_area": null,
            "grid_template_columns": null,
            "flex": null,
            "_model_name": "LayoutModel",
            "justify_items": null,
            "grid_row": null,
            "max_height": null,
            "align_content": null,
            "visibility": null,
            "align_self": null,
            "height": null,
            "min_height": null,
            "padding": null,
            "grid_auto_rows": null,
            "grid_gap": null,
            "max_width": null,
            "order": null,
            "_view_module_version": "1.2.0",
            "grid_template_areas": null,
            "object_position": null,
            "object_fit": null,
            "grid_auto_columns": null,
            "margin": null,
            "display": null,
            "left": null
          }
        },
        "08342e2f16f74392bb4c129232e8d437": {
          "model_module": "@jupyter-widgets/controls",
          "model_name": "DescriptionStyleModel",
          "state": {
            "_view_name": "StyleView",
            "_model_name": "DescriptionStyleModel",
            "description_width": "",
            "_view_module": "@jupyter-widgets/base",
            "_model_module_version": "1.5.0",
            "_view_count": null,
            "_view_module_version": "1.2.0",
            "_model_module": "@jupyter-widgets/controls"
          }
        },
        "4b1ac9a1bd864f0aa81e4a7ab257b375": {
          "model_module": "@jupyter-widgets/base",
          "model_name": "LayoutModel",
          "state": {
            "_view_name": "LayoutView",
            "grid_template_rows": null,
            "right": null,
            "justify_content": null,
            "_view_module": "@jupyter-widgets/base",
            "overflow": null,
            "_model_module_version": "1.2.0",
            "_view_count": null,
            "flex_flow": null,
            "width": null,
            "min_width": null,
            "border": null,
            "align_items": null,
            "bottom": null,
            "_model_module": "@jupyter-widgets/base",
            "top": null,
            "grid_column": null,
            "overflow_y": null,
            "overflow_x": null,
            "grid_auto_flow": null,
            "grid_area": null,
            "grid_template_columns": null,
            "flex": null,
            "_model_name": "LayoutModel",
            "justify_items": null,
            "grid_row": null,
            "max_height": null,
            "align_content": null,
            "visibility": null,
            "align_self": null,
            "height": null,
            "min_height": null,
            "padding": null,
            "grid_auto_rows": null,
            "grid_gap": null,
            "max_width": null,
            "order": null,
            "_view_module_version": "1.2.0",
            "grid_template_areas": null,
            "object_position": null,
            "object_fit": null,
            "grid_auto_columns": null,
            "margin": null,
            "display": null,
            "left": null
          }
        },
        "5dcd081ddf8d4d64966404c0133b6abd": {
          "model_module": "@jupyter-widgets/controls",
          "model_name": "HBoxModel",
          "state": {
            "_view_name": "HBoxView",
            "_dom_classes": [],
            "_model_name": "HBoxModel",
            "_view_module": "@jupyter-widgets/controls",
            "_model_module_version": "1.5.0",
            "_view_count": null,
            "_view_module_version": "1.5.0",
            "box_style": "",
            "layout": "IPY_MODEL_5d339b8de3de4dc2be878f356761a653",
            "_model_module": "@jupyter-widgets/controls",
            "children": [
              "IPY_MODEL_cc58873c82584a6380be81d59e1a806d",
              "IPY_MODEL_743b5c5b4dd84e5fa19a03993fa1c7c9"
            ]
          }
        },
        "5d339b8de3de4dc2be878f356761a653": {
          "model_module": "@jupyter-widgets/base",
          "model_name": "LayoutModel",
          "state": {
            "_view_name": "LayoutView",
            "grid_template_rows": null,
            "right": null,
            "justify_content": null,
            "_view_module": "@jupyter-widgets/base",
            "overflow": null,
            "_model_module_version": "1.2.0",
            "_view_count": null,
            "flex_flow": null,
            "width": null,
            "min_width": null,
            "border": null,
            "align_items": null,
            "bottom": null,
            "_model_module": "@jupyter-widgets/base",
            "top": null,
            "grid_column": null,
            "overflow_y": null,
            "overflow_x": null,
            "grid_auto_flow": null,
            "grid_area": null,
            "grid_template_columns": null,
            "flex": null,
            "_model_name": "LayoutModel",
            "justify_items": null,
            "grid_row": null,
            "max_height": null,
            "align_content": null,
            "visibility": null,
            "align_self": null,
            "height": null,
            "min_height": null,
            "padding": null,
            "grid_auto_rows": null,
            "grid_gap": null,
            "max_width": null,
            "order": null,
            "_view_module_version": "1.2.0",
            "grid_template_areas": null,
            "object_position": null,
            "object_fit": null,
            "grid_auto_columns": null,
            "margin": null,
            "display": null,
            "left": null
          }
        },
        "cc58873c82584a6380be81d59e1a806d": {
          "model_module": "@jupyter-widgets/controls",
          "model_name": "FloatProgressModel",
          "state": {
            "_view_name": "ProgressView",
            "style": "IPY_MODEL_88264b4521154626b586bc90158f9c2d",
            "_dom_classes": [],
            "description": "",
            "_model_name": "FloatProgressModel",
            "bar_style": "success",
            "max": 4422102,
            "_view_module": "@jupyter-widgets/controls",
            "_model_module_version": "1.5.0",
            "value": 4422102,
            "_view_count": null,
            "_view_module_version": "1.5.0",
            "orientation": "horizontal",
            "min": 0,
            "description_tooltip": null,
            "_model_module": "@jupyter-widgets/controls",
            "layout": "IPY_MODEL_35b949fbb46f4ae0acbb11165dc50759"
          }
        },
        "743b5c5b4dd84e5fa19a03993fa1c7c9": {
          "model_module": "@jupyter-widgets/controls",
          "model_name": "HTMLModel",
          "state": {
            "_view_name": "HTMLView",
            "style": "IPY_MODEL_6d934e8e77074a4b9c188312b40c39b8",
            "_dom_classes": [],
            "description": "",
            "_model_name": "HTMLModel",
            "placeholder": "​",
            "_view_module": "@jupyter-widgets/controls",
            "_model_module_version": "1.5.0",
            "value": " 4422656/? [1:28:59&lt;00:00, 828.26it/s]",
            "_view_count": null,
            "_view_module_version": "1.5.0",
            "description_tooltip": null,
            "_model_module": "@jupyter-widgets/controls",
            "layout": "IPY_MODEL_f6836930d4e24901abe0f317779bf2f7"
          }
        },
        "88264b4521154626b586bc90158f9c2d": {
          "model_module": "@jupyter-widgets/controls",
          "model_name": "ProgressStyleModel",
          "state": {
            "_view_name": "StyleView",
            "_model_name": "ProgressStyleModel",
            "description_width": "initial",
            "_view_module": "@jupyter-widgets/base",
            "_model_module_version": "1.5.0",
            "_view_count": null,
            "_view_module_version": "1.2.0",
            "bar_color": null,
            "_model_module": "@jupyter-widgets/controls"
          }
        },
        "35b949fbb46f4ae0acbb11165dc50759": {
          "model_module": "@jupyter-widgets/base",
          "model_name": "LayoutModel",
          "state": {
            "_view_name": "LayoutView",
            "grid_template_rows": null,
            "right": null,
            "justify_content": null,
            "_view_module": "@jupyter-widgets/base",
            "overflow": null,
            "_model_module_version": "1.2.0",
            "_view_count": null,
            "flex_flow": null,
            "width": null,
            "min_width": null,
            "border": null,
            "align_items": null,
            "bottom": null,
            "_model_module": "@jupyter-widgets/base",
            "top": null,
            "grid_column": null,
            "overflow_y": null,
            "overflow_x": null,
            "grid_auto_flow": null,
            "grid_area": null,
            "grid_template_columns": null,
            "flex": null,
            "_model_name": "LayoutModel",
            "justify_items": null,
            "grid_row": null,
            "max_height": null,
            "align_content": null,
            "visibility": null,
            "align_self": null,
            "height": null,
            "min_height": null,
            "padding": null,
            "grid_auto_rows": null,
            "grid_gap": null,
            "max_width": null,
            "order": null,
            "_view_module_version": "1.2.0",
            "grid_template_areas": null,
            "object_position": null,
            "object_fit": null,
            "grid_auto_columns": null,
            "margin": null,
            "display": null,
            "left": null
          }
        },
        "6d934e8e77074a4b9c188312b40c39b8": {
          "model_module": "@jupyter-widgets/controls",
          "model_name": "DescriptionStyleModel",
          "state": {
            "_view_name": "StyleView",
            "_model_name": "DescriptionStyleModel",
            "description_width": "",
            "_view_module": "@jupyter-widgets/base",
            "_model_module_version": "1.5.0",
            "_view_count": null,
            "_view_module_version": "1.2.0",
            "_model_module": "@jupyter-widgets/controls"
          }
        },
        "f6836930d4e24901abe0f317779bf2f7": {
          "model_module": "@jupyter-widgets/base",
          "model_name": "LayoutModel",
          "state": {
            "_view_name": "LayoutView",
            "grid_template_rows": null,
            "right": null,
            "justify_content": null,
            "_view_module": "@jupyter-widgets/base",
            "overflow": null,
            "_model_module_version": "1.2.0",
            "_view_count": null,
            "flex_flow": null,
            "width": null,
            "min_width": null,
            "border": null,
            "align_items": null,
            "bottom": null,
            "_model_module": "@jupyter-widgets/base",
            "top": null,
            "grid_column": null,
            "overflow_y": null,
            "overflow_x": null,
            "grid_auto_flow": null,
            "grid_area": null,
            "grid_template_columns": null,
            "flex": null,
            "_model_name": "LayoutModel",
            "justify_items": null,
            "grid_row": null,
            "max_height": null,
            "align_content": null,
            "visibility": null,
            "align_self": null,
            "height": null,
            "min_height": null,
            "padding": null,
            "grid_auto_rows": null,
            "grid_gap": null,
            "max_width": null,
            "order": null,
            "_view_module_version": "1.2.0",
            "grid_template_areas": null,
            "object_position": null,
            "object_fit": null,
            "grid_auto_columns": null,
            "margin": null,
            "display": null,
            "left": null
          }
        },
        "544d1b02717e4156a9541d9e00ede6c1": {
          "model_module": "@jupyter-widgets/controls",
          "model_name": "HBoxModel",
          "state": {
            "_view_name": "HBoxView",
            "_dom_classes": [],
            "_model_name": "HBoxModel",
            "_view_module": "@jupyter-widgets/controls",
            "_model_module_version": "1.5.0",
            "_view_count": null,
            "_view_module_version": "1.5.0",
            "box_style": "",
            "layout": "IPY_MODEL_17d5731cb3b4422d9f03ae454d1fc202",
            "_model_module": "@jupyter-widgets/controls",
            "children": [
              "IPY_MODEL_a415258cee5d411bb80b4978699e222f",
              "IPY_MODEL_a011dfb7a566419d82929ccd044ccd9f"
            ]
          }
        },
        "17d5731cb3b4422d9f03ae454d1fc202": {
          "model_module": "@jupyter-widgets/base",
          "model_name": "LayoutModel",
          "state": {
            "_view_name": "LayoutView",
            "grid_template_rows": null,
            "right": null,
            "justify_content": null,
            "_view_module": "@jupyter-widgets/base",
            "overflow": null,
            "_model_module_version": "1.2.0",
            "_view_count": null,
            "flex_flow": null,
            "width": null,
            "min_width": null,
            "border": null,
            "align_items": null,
            "bottom": null,
            "_model_module": "@jupyter-widgets/base",
            "top": null,
            "grid_column": null,
            "overflow_y": null,
            "overflow_x": null,
            "grid_auto_flow": null,
            "grid_area": null,
            "grid_template_columns": null,
            "flex": null,
            "_model_name": "LayoutModel",
            "justify_items": null,
            "grid_row": null,
            "max_height": null,
            "align_content": null,
            "visibility": null,
            "align_self": null,
            "height": null,
            "min_height": null,
            "padding": null,
            "grid_auto_rows": null,
            "grid_gap": null,
            "max_width": null,
            "order": null,
            "_view_module_version": "1.2.0",
            "grid_template_areas": null,
            "object_position": null,
            "object_fit": null,
            "grid_auto_columns": null,
            "margin": null,
            "display": null,
            "left": null
          }
        },
        "a415258cee5d411bb80b4978699e222f": {
          "model_module": "@jupyter-widgets/controls",
          "model_name": "FloatProgressModel",
          "state": {
            "_view_name": "ProgressView",
            "style": "IPY_MODEL_30a64b2f601049c69b5e364cb68ef6fc",
            "_dom_classes": [],
            "description": "",
            "_model_name": "FloatProgressModel",
            "bar_style": "success",
            "max": 5148,
            "_view_module": "@jupyter-widgets/controls",
            "_model_module_version": "1.5.0",
            "value": 5148,
            "_view_count": null,
            "_view_module_version": "1.5.0",
            "orientation": "horizontal",
            "min": 0,
            "description_tooltip": null,
            "_model_module": "@jupyter-widgets/controls",
            "layout": "IPY_MODEL_af4cbc1eacb14655b10d6d625caeb7ff"
          }
        },
        "a011dfb7a566419d82929ccd044ccd9f": {
          "model_module": "@jupyter-widgets/controls",
          "model_name": "HTMLModel",
          "state": {
            "_view_name": "HTMLView",
            "style": "IPY_MODEL_c3484e6967cf47719a57439304f1e01f",
            "_dom_classes": [],
            "description": "",
            "_model_name": "HTMLModel",
            "placeholder": "​",
            "_view_module": "@jupyter-widgets/controls",
            "_model_module_version": "1.5.0",
            "value": " 6144/? [00:17&lt;00:00, 347.08it/s]",
            "_view_count": null,
            "_view_module_version": "1.5.0",
            "description_tooltip": null,
            "_model_module": "@jupyter-widgets/controls",
            "layout": "IPY_MODEL_e2ff2f7b92b9409183648fa31e35e2ac"
          }
        },
        "30a64b2f601049c69b5e364cb68ef6fc": {
          "model_module": "@jupyter-widgets/controls",
          "model_name": "ProgressStyleModel",
          "state": {
            "_view_name": "StyleView",
            "_model_name": "ProgressStyleModel",
            "description_width": "initial",
            "_view_module": "@jupyter-widgets/base",
            "_model_module_version": "1.5.0",
            "_view_count": null,
            "_view_module_version": "1.2.0",
            "bar_color": null,
            "_model_module": "@jupyter-widgets/controls"
          }
        },
        "af4cbc1eacb14655b10d6d625caeb7ff": {
          "model_module": "@jupyter-widgets/base",
          "model_name": "LayoutModel",
          "state": {
            "_view_name": "LayoutView",
            "grid_template_rows": null,
            "right": null,
            "justify_content": null,
            "_view_module": "@jupyter-widgets/base",
            "overflow": null,
            "_model_module_version": "1.2.0",
            "_view_count": null,
            "flex_flow": null,
            "width": null,
            "min_width": null,
            "border": null,
            "align_items": null,
            "bottom": null,
            "_model_module": "@jupyter-widgets/base",
            "top": null,
            "grid_column": null,
            "overflow_y": null,
            "overflow_x": null,
            "grid_auto_flow": null,
            "grid_area": null,
            "grid_template_columns": null,
            "flex": null,
            "_model_name": "LayoutModel",
            "justify_items": null,
            "grid_row": null,
            "max_height": null,
            "align_content": null,
            "visibility": null,
            "align_self": null,
            "height": null,
            "min_height": null,
            "padding": null,
            "grid_auto_rows": null,
            "grid_gap": null,
            "max_width": null,
            "order": null,
            "_view_module_version": "1.2.0",
            "grid_template_areas": null,
            "object_position": null,
            "object_fit": null,
            "grid_auto_columns": null,
            "margin": null,
            "display": null,
            "left": null
          }
        },
        "c3484e6967cf47719a57439304f1e01f": {
          "model_module": "@jupyter-widgets/controls",
          "model_name": "DescriptionStyleModel",
          "state": {
            "_view_name": "StyleView",
            "_model_name": "DescriptionStyleModel",
            "description_width": "",
            "_view_module": "@jupyter-widgets/base",
            "_model_module_version": "1.5.0",
            "_view_count": null,
            "_view_module_version": "1.2.0",
            "_model_module": "@jupyter-widgets/controls"
          }
        },
        "e2ff2f7b92b9409183648fa31e35e2ac": {
          "model_module": "@jupyter-widgets/base",
          "model_name": "LayoutModel",
          "state": {
            "_view_name": "LayoutView",
            "grid_template_rows": null,
            "right": null,
            "justify_content": null,
            "_view_module": "@jupyter-widgets/base",
            "overflow": null,
            "_model_module_version": "1.2.0",
            "_view_count": null,
            "flex_flow": null,
            "width": null,
            "min_width": null,
            "border": null,
            "align_items": null,
            "bottom": null,
            "_model_module": "@jupyter-widgets/base",
            "top": null,
            "grid_column": null,
            "overflow_y": null,
            "overflow_x": null,
            "grid_auto_flow": null,
            "grid_area": null,
            "grid_template_columns": null,
            "flex": null,
            "_model_name": "LayoutModel",
            "justify_items": null,
            "grid_row": null,
            "max_height": null,
            "align_content": null,
            "visibility": null,
            "align_self": null,
            "height": null,
            "min_height": null,
            "padding": null,
            "grid_auto_rows": null,
            "grid_gap": null,
            "max_width": null,
            "order": null,
            "_view_module_version": "1.2.0",
            "grid_template_areas": null,
            "object_position": null,
            "object_fit": null,
            "grid_auto_columns": null,
            "margin": null,
            "display": null,
            "left": null
          }
        }
      }
    }
  },
  "cells": [
    {
      "cell_type": "code",
      "metadata": {
        "id": "iWk-fjNK5HZ2"
      },
      "source": [
        "import os\n",
        "import torch\n",
        "import torchvision\n",
        "import torch.nn as nn\n",
        "import torch.optim as optim\n",
        "from torchvision import transforms, datasets\n",
        "from torchvision.utils import save_image\n",
        "import matplotlib.pyplot as plt"
      ],
      "execution_count": 1,
      "outputs": []
    },
    {
      "cell_type": "code",
      "metadata": {
        "colab": {
          "base_uri": "https://localhost:8080/"
        },
        "id": "myiShWsg5Lni",
        "outputId": "10ab238c-76b1-4fce-9b4f-220a94344d77"
      },
      "source": [
        "epochs = 300\n",
        "batch_size = 100\n",
        "use_cuda = torch.cuda.is_available()\n",
        "device = torch.device('cuda' if use_cuda else 'cpu')\n",
        "print('다음 장치를 사용합니다:', device)"
      ],
      "execution_count": 2,
      "outputs": [
        {
          "output_type": "stream",
          "text": [
            "다음 장치를 사용합니다: cuda\n"
          ],
          "name": "stdout"
        }
      ]
    },
    {
      "cell_type": "code",
      "metadata": {
        "colab": {
          "base_uri": "https://localhost:8080/",
          "height": 453,
          "referenced_widgets": [
            "08b5ba336aca4d70b6b0173cb0eb0460",
            "22e25766bd8b44a199a46ef02aff25a8",
            "d246b070544a4a0f9ca0985556ffa046",
            "6e35a8e269e6410d812529057b06ce7d",
            "ae320cbe402844ee8ecc72052f74c806",
            "cd5fb16b41304b5886cece9f8e1d1ab2",
            "0710a48b64af478aa68f293f6dfd1fb8",
            "71945fcacf5e45d79fd8302f1072482d",
            "755ff11d8b90436ab493114375252774",
            "99b119edd1f5419ab6ec762039ff7a86",
            "713141f8414f406e89e489bef187104b",
            "6d0e56ad2425496c948922bce126aeff",
            "42a03d5605474c60bbd5c64781ab565f",
            "4a49aef00d774d37819c8a1d97c71ecb",
            "08342e2f16f74392bb4c129232e8d437",
            "4b1ac9a1bd864f0aa81e4a7ab257b375",
            "5dcd081ddf8d4d64966404c0133b6abd",
            "5d339b8de3de4dc2be878f356761a653",
            "cc58873c82584a6380be81d59e1a806d",
            "743b5c5b4dd84e5fa19a03993fa1c7c9",
            "88264b4521154626b586bc90158f9c2d",
            "35b949fbb46f4ae0acbb11165dc50759",
            "6d934e8e77074a4b9c188312b40c39b8",
            "f6836930d4e24901abe0f317779bf2f7",
            "544d1b02717e4156a9541d9e00ede6c1",
            "17d5731cb3b4422d9f03ae454d1fc202",
            "a415258cee5d411bb80b4978699e222f",
            "a011dfb7a566419d82929ccd044ccd9f",
            "30a64b2f601049c69b5e364cb68ef6fc",
            "af4cbc1eacb14655b10d6d625caeb7ff",
            "c3484e6967cf47719a57439304f1e01f",
            "e2ff2f7b92b9409183648fa31e35e2ac"
          ]
        },
        "id": "EWrTmwNk5ODQ",
        "outputId": "7005e057-f3d8-4899-ba02-25a3a63409ab"
      },
      "source": [
        "trainset = datasets.FashionMNIST('./.data', train=True, download=True, transform=transforms.Compose([\n",
        "                        transforms.ToTensor(), transforms.Normalize((0.5,), (0.5,))\n",
        "]))\n",
        "\n",
        "train_loader = torch.utils.data.DataLoader(dataset= trainset, batch_size=batch_size, shuffle=True)"
      ],
      "execution_count": 3,
      "outputs": [
        {
          "output_type": "stream",
          "text": [
            "Downloading http://fashion-mnist.s3-website.eu-central-1.amazonaws.com/train-images-idx3-ubyte.gz to ./.data/FashionMNIST/raw/train-images-idx3-ubyte.gz\n"
          ],
          "name": "stdout"
        },
        {
          "output_type": "display_data",
          "data": {
            "application/vnd.jupyter.widget-view+json": {
              "model_id": "08b5ba336aca4d70b6b0173cb0eb0460",
              "version_minor": 0,
              "version_major": 2
            },
            "text/plain": [
              "HBox(children=(FloatProgress(value=0.0, max=26421880.0), HTML(value='')))"
            ]
          },
          "metadata": {
            "tags": []
          }
        },
        {
          "output_type": "stream",
          "text": [
            "\n",
            "Extracting ./.data/FashionMNIST/raw/train-images-idx3-ubyte.gz to ./.data/FashionMNIST/raw\n",
            "Downloading http://fashion-mnist.s3-website.eu-central-1.amazonaws.com/train-labels-idx1-ubyte.gz to ./.data/FashionMNIST/raw/train-labels-idx1-ubyte.gz\n"
          ],
          "name": "stdout"
        },
        {
          "output_type": "display_data",
          "data": {
            "application/vnd.jupyter.widget-view+json": {
              "model_id": "755ff11d8b90436ab493114375252774",
              "version_minor": 0,
              "version_major": 2
            },
            "text/plain": [
              "HBox(children=(FloatProgress(value=0.0, max=29515.0), HTML(value='')))"
            ]
          },
          "metadata": {
            "tags": []
          }
        },
        {
          "output_type": "stream",
          "text": [
            "\n",
            "Extracting ./.data/FashionMNIST/raw/train-labels-idx1-ubyte.gz to ./.data/FashionMNIST/raw\n",
            "Downloading http://fashion-mnist.s3-website.eu-central-1.amazonaws.com/t10k-images-idx3-ubyte.gz to ./.data/FashionMNIST/raw/t10k-images-idx3-ubyte.gz\n"
          ],
          "name": "stdout"
        },
        {
          "output_type": "display_data",
          "data": {
            "application/vnd.jupyter.widget-view+json": {
              "model_id": "5dcd081ddf8d4d64966404c0133b6abd",
              "version_minor": 0,
              "version_major": 2
            },
            "text/plain": [
              "HBox(children=(FloatProgress(value=0.0, max=4422102.0), HTML(value='')))"
            ]
          },
          "metadata": {
            "tags": []
          }
        },
        {
          "output_type": "stream",
          "text": [
            "\n",
            "Extracting ./.data/FashionMNIST/raw/t10k-images-idx3-ubyte.gz to ./.data/FashionMNIST/raw\n",
            "Downloading http://fashion-mnist.s3-website.eu-central-1.amazonaws.com/t10k-labels-idx1-ubyte.gz to ./.data/FashionMNIST/raw/t10k-labels-idx1-ubyte.gz\n"
          ],
          "name": "stdout"
        },
        {
          "output_type": "display_data",
          "data": {
            "application/vnd.jupyter.widget-view+json": {
              "model_id": "544d1b02717e4156a9541d9e00ede6c1",
              "version_minor": 0,
              "version_major": 2
            },
            "text/plain": [
              "HBox(children=(FloatProgress(value=0.0, max=5148.0), HTML(value='')))"
            ]
          },
          "metadata": {
            "tags": []
          }
        },
        {
          "output_type": "stream",
          "text": [
            "\n",
            "Extracting ./.data/FashionMNIST/raw/t10k-labels-idx1-ubyte.gz to ./.data/FashionMNIST/raw\n",
            "Processing...\n",
            "Done!\n"
          ],
          "name": "stdout"
        },
        {
          "output_type": "stream",
          "text": [
            "/usr/local/lib/python3.7/dist-packages/torchvision/datasets/mnist.py:479: UserWarning: The given NumPy array is not writeable, and PyTorch does not support non-writeable tensors. This means you can write to the underlying (supposedly non-writeable) NumPy array using the tensor. You may want to copy the array to protect its data or make it writeable before converting it to a tensor. This type of warning will be suppressed for the rest of this program. (Triggered internally at  /pytorch/torch/csrc/utils/tensor_numpy.cpp:143.)\n",
            "  return torch.from_numpy(parsed.astype(m[2], copy=False)).view(*s)\n"
          ],
          "name": "stderr"
        }
      ]
    },
    {
      "cell_type": "code",
      "metadata": {
        "id": "0S34TLT75PzQ"
      },
      "source": [
        "G = nn.Sequential(\n",
        "    nn.Linear(64, 256),\n",
        "    nn.LeakyReLU(0.2, inplace=True),\n",
        "    nn.Linear(256, 512),\n",
        "    nn.LeakyReLU(0.2, inplace=True),\n",
        "    nn.Linear(512, 1024),\n",
        "    nn.LeakyReLU(0.2, inplace=True),\n",
        "    nn.Linear(1024, 784),\n",
        "    nn.Tanh()\n",
        ")"
      ],
      "execution_count": 12,
      "outputs": []
    },
    {
      "cell_type": "code",
      "metadata": {
        "id": "U79wI0w-5c0o"
      },
      "source": [
        "D = nn.Sequential(\n",
        "    nn.Linear(784, 1024),\n",
        "    nn.LeakyReLU(0.2, inplace=True),\n",
        "    nn.Dropout(0.3),\n",
        "    nn.Linear(1024, 512),\n",
        "    nn.LeakyReLU(0.2, inplace=True),\n",
        "    nn.Dropout(0.3),\n",
        "    nn.Linear(512, 256),\n",
        "    nn.LeakyReLU(0.2, inplace=True),\n",
        "    nn.Dropout(0.3),\n",
        "    nn.Linear(256, 1),\n",
        "    nn.Sigmoid()\n",
        ")"
      ],
      "execution_count": 13,
      "outputs": []
    },
    {
      "cell_type": "code",
      "metadata": {
        "id": "IIqqoFKE5ebP"
      },
      "source": [
        "# 모델의 가중치를 지정한 장치로 보내기\n",
        "G = G.to(device)\n",
        "D = D.to(device)\n",
        "\n",
        "criterion = nn.BCELoss() # 이진 교차 엔트로피 오차 함수\n",
        "g_optimizer = optim.Adam(G.parameters(), lr=0.0002) # 생성자와 판별자를 최적화할 Adam 모듈\n",
        "d_optimizer = optim.Adam(D.parameters(), lr=0.0002)"
      ],
      "execution_count": 14,
      "outputs": []
    },
    {
      "cell_type": "code",
      "metadata": {
        "colab": {
          "base_uri": "https://localhost:8080/"
        },
        "id": "kjd89Yum5hoP",
        "outputId": "11dc73ce-8ee9-48bf-cf51-a8d86c15dd4a"
      },
      "source": [
        "total_step = len(train_loader)\n",
        "\n",
        "for epoch in range(1, epochs + 1):\n",
        "  for i, (images, _) in enumerate(train_loader):\n",
        "    images = images.reshape(batch_size, -1).to(device)\n",
        "    \n",
        "    # '진짜'와 '가짜' 레이블 생성\n",
        "    real_labels = torch.ones(batch_size, 1).to(device)\n",
        "    fake_labels = torch.zeros(batch_size, 1).to(device)\n",
        "    \n",
        "    # 판별자가 진짜 이미지를 진짜로 인식하는 오차 계산\n",
        "    outputs = D(images)\n",
        "    d_loss_real = criterion(outputs, real_labels)\n",
        "    real_score = outputs\n",
        "    \n",
        "    # 무작위 텐서로 가짜 이미지 생성\n",
        "    z = torch.randn(batch_size, 64).to(device)\n",
        "    fake_images = G(z)\n",
        "\n",
        "    # 판별자가 가짜 이미지를 가짜로 인식하는 오차 계산\n",
        "    outputs = D(fake_images)\n",
        "    d_loss_fake = criterion(outputs, fake_labels)\n",
        "    fake_score = outputs\n",
        "\n",
        "    # 진짜 이미지 오차와 가짜 이미지 오차를 더해서 판별자의 오차 계산\n",
        "    d_loss = d_loss_real + d_loss_fake\n",
        "\n",
        "    # 역전파 알고리즘으로 판별자 모델의 학습을 진행\n",
        "    d_optimizer.zero_grad()\n",
        "    g_optimizer.zero_grad()\n",
        "    d_loss.backward()\n",
        "    d_optimizer.step()\n",
        "    \n",
        "    # 생성자가 판별자를 속였는지에 대한 오차 계산\n",
        "    fake_images = G(z)\n",
        "    outputs = D(fake_images)\n",
        "    g_loss = criterion(outputs, real_labels)\n",
        "    \n",
        "    # 역전파 알고리즘으로 생성자 모델의 학습을 진행\n",
        "    d_optimizer.zero_grad()\n",
        "    g_optimizer.zero_grad()\n",
        "    g_loss.backward()\n",
        "    g_optimizer.step()\n",
        "\n",
        "  print('Epoch [{}/{}] d_loss: {:.4f} g_loss: {:.4f} D(x):{:.2f} D(G(z)): {:.2f}'.format(\n",
        "                  epoch, epochs, d_loss.item(), g_loss.item(), real_score.mean().item(), fake_score.mean().item()\n",
        "    ))"
      ],
      "execution_count": 15,
      "outputs": [
        {
          "output_type": "stream",
          "text": [
            "Epoch [1/300] d_loss: 0.1739 g_loss: 7.5644 D(x):0.95 D(G(z)): 0.07\n",
            "Epoch [2/300] d_loss: 0.8061 g_loss: 3.2000 D(x):0.78 D(G(z)): 0.25\n",
            "Epoch [3/300] d_loss: 0.4048 g_loss: 4.4240 D(x):0.89 D(G(z)): 0.08\n",
            "Epoch [4/300] d_loss: 0.5576 g_loss: 4.2992 D(x):0.83 D(G(z)): 0.11\n",
            "Epoch [5/300] d_loss: 0.4790 g_loss: 3.1529 D(x):0.84 D(G(z)): 0.12\n",
            "Epoch [6/300] d_loss: 0.7791 g_loss: 2.8549 D(x):0.75 D(G(z)): 0.18\n",
            "Epoch [7/300] d_loss: 0.5473 g_loss: 2.5213 D(x):0.82 D(G(z)): 0.19\n",
            "Epoch [8/300] d_loss: 0.4540 g_loss: 2.8757 D(x):0.86 D(G(z)): 0.14\n",
            "Epoch [9/300] d_loss: 0.8324 g_loss: 1.9387 D(x):0.73 D(G(z)): 0.23\n",
            "Epoch [10/300] d_loss: 0.8007 g_loss: 1.6713 D(x):0.81 D(G(z)): 0.33\n",
            "Epoch [11/300] d_loss: 0.7742 g_loss: 1.4119 D(x):0.75 D(G(z)): 0.31\n",
            "Epoch [12/300] d_loss: 0.6749 g_loss: 1.6197 D(x):0.82 D(G(z)): 0.29\n",
            "Epoch [13/300] d_loss: 0.6462 g_loss: 2.0260 D(x):0.73 D(G(z)): 0.18\n",
            "Epoch [14/300] d_loss: 1.1862 g_loss: 1.6855 D(x):0.60 D(G(z)): 0.27\n",
            "Epoch [15/300] d_loss: 0.7116 g_loss: 1.8736 D(x):0.78 D(G(z)): 0.23\n",
            "Epoch [16/300] d_loss: 0.8414 g_loss: 1.7639 D(x):0.72 D(G(z)): 0.27\n",
            "Epoch [17/300] d_loss: 0.9014 g_loss: 1.4304 D(x):0.69 D(G(z)): 0.31\n",
            "Epoch [18/300] d_loss: 0.8204 g_loss: 2.0121 D(x):0.71 D(G(z)): 0.22\n",
            "Epoch [19/300] d_loss: 0.8738 g_loss: 1.3915 D(x):0.70 D(G(z)): 0.31\n",
            "Epoch [20/300] d_loss: 0.8937 g_loss: 1.5718 D(x):0.74 D(G(z)): 0.32\n",
            "Epoch [21/300] d_loss: 1.0149 g_loss: 1.6485 D(x):0.64 D(G(z)): 0.27\n",
            "Epoch [22/300] d_loss: 0.8678 g_loss: 1.8436 D(x):0.71 D(G(z)): 0.28\n",
            "Epoch [23/300] d_loss: 1.0981 g_loss: 1.6904 D(x):0.69 D(G(z)): 0.29\n",
            "Epoch [24/300] d_loss: 0.8746 g_loss: 1.6282 D(x):0.76 D(G(z)): 0.32\n",
            "Epoch [25/300] d_loss: 1.0609 g_loss: 1.2314 D(x):0.65 D(G(z)): 0.35\n",
            "Epoch [26/300] d_loss: 1.0101 g_loss: 1.3203 D(x):0.62 D(G(z)): 0.29\n",
            "Epoch [27/300] d_loss: 1.0587 g_loss: 1.5730 D(x):0.67 D(G(z)): 0.35\n",
            "Epoch [28/300] d_loss: 1.1450 g_loss: 1.6020 D(x):0.63 D(G(z)): 0.29\n",
            "Epoch [29/300] d_loss: 0.8536 g_loss: 1.2797 D(x):0.73 D(G(z)): 0.32\n",
            "Epoch [30/300] d_loss: 0.8102 g_loss: 1.5609 D(x):0.73 D(G(z)): 0.27\n",
            "Epoch [31/300] d_loss: 0.8003 g_loss: 1.4679 D(x):0.71 D(G(z)): 0.27\n",
            "Epoch [32/300] d_loss: 1.2072 g_loss: 1.0208 D(x):0.62 D(G(z)): 0.42\n",
            "Epoch [33/300] d_loss: 0.8336 g_loss: 1.8750 D(x):0.73 D(G(z)): 0.27\n",
            "Epoch [34/300] d_loss: 0.8750 g_loss: 1.3552 D(x):0.70 D(G(z)): 0.31\n",
            "Epoch [35/300] d_loss: 1.1610 g_loss: 1.1998 D(x):0.68 D(G(z)): 0.42\n",
            "Epoch [36/300] d_loss: 0.9435 g_loss: 1.5146 D(x):0.67 D(G(z)): 0.27\n",
            "Epoch [37/300] d_loss: 1.0380 g_loss: 1.3935 D(x):0.64 D(G(z)): 0.32\n",
            "Epoch [38/300] d_loss: 1.0312 g_loss: 1.3764 D(x):0.60 D(G(z)): 0.28\n",
            "Epoch [39/300] d_loss: 1.2097 g_loss: 1.1029 D(x):0.69 D(G(z)): 0.45\n",
            "Epoch [40/300] d_loss: 1.0755 g_loss: 1.0916 D(x):0.67 D(G(z)): 0.40\n",
            "Epoch [41/300] d_loss: 1.1128 g_loss: 1.2585 D(x):0.63 D(G(z)): 0.35\n",
            "Epoch [42/300] d_loss: 0.9893 g_loss: 1.4570 D(x):0.65 D(G(z)): 0.30\n",
            "Epoch [43/300] d_loss: 1.0325 g_loss: 1.4285 D(x):0.62 D(G(z)): 0.31\n",
            "Epoch [44/300] d_loss: 1.2102 g_loss: 1.2460 D(x):0.68 D(G(z)): 0.40\n",
            "Epoch [45/300] d_loss: 1.0507 g_loss: 1.3572 D(x):0.65 D(G(z)): 0.33\n",
            "Epoch [46/300] d_loss: 1.0541 g_loss: 1.2290 D(x):0.65 D(G(z)): 0.37\n",
            "Epoch [47/300] d_loss: 0.8906 g_loss: 1.2933 D(x):0.76 D(G(z)): 0.35\n",
            "Epoch [48/300] d_loss: 1.0433 g_loss: 1.1808 D(x):0.65 D(G(z)): 0.36\n",
            "Epoch [49/300] d_loss: 1.0889 g_loss: 1.0200 D(x):0.68 D(G(z)): 0.42\n",
            "Epoch [50/300] d_loss: 1.0447 g_loss: 1.1480 D(x):0.65 D(G(z)): 0.35\n",
            "Epoch [51/300] d_loss: 1.1421 g_loss: 1.3669 D(x):0.61 D(G(z)): 0.35\n",
            "Epoch [52/300] d_loss: 0.9914 g_loss: 1.3254 D(x):0.65 D(G(z)): 0.32\n",
            "Epoch [53/300] d_loss: 1.1122 g_loss: 1.2156 D(x):0.60 D(G(z)): 0.34\n",
            "Epoch [54/300] d_loss: 1.0098 g_loss: 1.3365 D(x):0.69 D(G(z)): 0.34\n",
            "Epoch [55/300] d_loss: 0.9271 g_loss: 1.3822 D(x):0.68 D(G(z)): 0.31\n",
            "Epoch [56/300] d_loss: 0.9662 g_loss: 1.3633 D(x):0.73 D(G(z)): 0.37\n",
            "Epoch [57/300] d_loss: 1.1653 g_loss: 1.0691 D(x):0.65 D(G(z)): 0.41\n",
            "Epoch [58/300] d_loss: 1.0384 g_loss: 1.0481 D(x):0.65 D(G(z)): 0.39\n",
            "Epoch [59/300] d_loss: 0.8900 g_loss: 1.2178 D(x):0.72 D(G(z)): 0.35\n",
            "Epoch [60/300] d_loss: 1.3550 g_loss: 1.2620 D(x):0.57 D(G(z)): 0.38\n",
            "Epoch [61/300] d_loss: 1.0614 g_loss: 1.0121 D(x):0.60 D(G(z)): 0.37\n",
            "Epoch [62/300] d_loss: 1.2528 g_loss: 1.1359 D(x):0.60 D(G(z)): 0.41\n",
            "Epoch [63/300] d_loss: 0.9179 g_loss: 1.4974 D(x):0.67 D(G(z)): 0.30\n",
            "Epoch [64/300] d_loss: 0.9495 g_loss: 1.2727 D(x):0.66 D(G(z)): 0.33\n",
            "Epoch [65/300] d_loss: 1.0899 g_loss: 1.1318 D(x):0.62 D(G(z)): 0.38\n",
            "Epoch [66/300] d_loss: 1.0457 g_loss: 1.2018 D(x):0.64 D(G(z)): 0.35\n",
            "Epoch [67/300] d_loss: 1.1109 g_loss: 0.9594 D(x):0.66 D(G(z)): 0.41\n",
            "Epoch [68/300] d_loss: 1.1603 g_loss: 1.0803 D(x):0.57 D(G(z)): 0.37\n",
            "Epoch [69/300] d_loss: 0.9810 g_loss: 1.3441 D(x):0.66 D(G(z)): 0.32\n",
            "Epoch [70/300] d_loss: 1.0227 g_loss: 1.2897 D(x):0.63 D(G(z)): 0.33\n",
            "Epoch [71/300] d_loss: 1.2692 g_loss: 1.0365 D(x):0.54 D(G(z)): 0.40\n",
            "Epoch [72/300] d_loss: 1.2755 g_loss: 1.0184 D(x):0.59 D(G(z)): 0.43\n",
            "Epoch [73/300] d_loss: 1.0414 g_loss: 1.1548 D(x):0.67 D(G(z)): 0.38\n",
            "Epoch [74/300] d_loss: 1.0720 g_loss: 1.1948 D(x):0.62 D(G(z)): 0.36\n",
            "Epoch [75/300] d_loss: 1.0468 g_loss: 1.2268 D(x):0.62 D(G(z)): 0.33\n",
            "Epoch [76/300] d_loss: 1.1732 g_loss: 1.1262 D(x):0.59 D(G(z)): 0.37\n",
            "Epoch [77/300] d_loss: 1.0434 g_loss: 1.0896 D(x):0.64 D(G(z)): 0.37\n",
            "Epoch [78/300] d_loss: 1.0460 g_loss: 1.2302 D(x):0.64 D(G(z)): 0.37\n",
            "Epoch [79/300] d_loss: 1.1587 g_loss: 1.1695 D(x):0.62 D(G(z)): 0.37\n",
            "Epoch [80/300] d_loss: 1.1686 g_loss: 1.2070 D(x):0.59 D(G(z)): 0.37\n",
            "Epoch [81/300] d_loss: 0.9550 g_loss: 1.0533 D(x):0.70 D(G(z)): 0.39\n",
            "Epoch [82/300] d_loss: 1.1687 g_loss: 0.9673 D(x):0.59 D(G(z)): 0.40\n",
            "Epoch [83/300] d_loss: 1.3680 g_loss: 0.9421 D(x):0.58 D(G(z)): 0.46\n",
            "Epoch [84/300] d_loss: 1.0296 g_loss: 1.2440 D(x):0.65 D(G(z)): 0.36\n",
            "Epoch [85/300] d_loss: 1.1623 g_loss: 1.0758 D(x):0.58 D(G(z)): 0.38\n",
            "Epoch [86/300] d_loss: 1.0666 g_loss: 1.1650 D(x):0.65 D(G(z)): 0.37\n",
            "Epoch [87/300] d_loss: 1.2198 g_loss: 1.0818 D(x):0.62 D(G(z)): 0.41\n",
            "Epoch [88/300] d_loss: 1.0803 g_loss: 1.0548 D(x):0.66 D(G(z)): 0.42\n",
            "Epoch [89/300] d_loss: 1.2580 g_loss: 1.0137 D(x):0.58 D(G(z)): 0.42\n",
            "Epoch [90/300] d_loss: 1.0069 g_loss: 1.2206 D(x):0.67 D(G(z)): 0.37\n",
            "Epoch [91/300] d_loss: 0.9502 g_loss: 1.2337 D(x):0.66 D(G(z)): 0.34\n",
            "Epoch [92/300] d_loss: 1.0444 g_loss: 1.2596 D(x):0.68 D(G(z)): 0.39\n",
            "Epoch [93/300] d_loss: 0.9145 g_loss: 1.3445 D(x):0.68 D(G(z)): 0.31\n",
            "Epoch [94/300] d_loss: 1.1024 g_loss: 1.0514 D(x):0.65 D(G(z)): 0.39\n",
            "Epoch [95/300] d_loss: 1.0761 g_loss: 1.2031 D(x):0.63 D(G(z)): 0.35\n",
            "Epoch [96/300] d_loss: 1.2229 g_loss: 1.2689 D(x):0.57 D(G(z)): 0.37\n",
            "Epoch [97/300] d_loss: 1.1356 g_loss: 1.0197 D(x):0.62 D(G(z)): 0.41\n",
            "Epoch [98/300] d_loss: 1.3176 g_loss: 1.1797 D(x):0.57 D(G(z)): 0.39\n",
            "Epoch [99/300] d_loss: 1.1834 g_loss: 1.2165 D(x):0.57 D(G(z)): 0.37\n",
            "Epoch [100/300] d_loss: 1.0710 g_loss: 1.3859 D(x):0.61 D(G(z)): 0.31\n",
            "Epoch [101/300] d_loss: 1.1879 g_loss: 1.0348 D(x):0.57 D(G(z)): 0.40\n",
            "Epoch [102/300] d_loss: 1.2653 g_loss: 0.9583 D(x):0.56 D(G(z)): 0.42\n",
            "Epoch [103/300] d_loss: 1.2724 g_loss: 1.1265 D(x):0.54 D(G(z)): 0.37\n",
            "Epoch [104/300] d_loss: 1.1958 g_loss: 1.0574 D(x):0.59 D(G(z)): 0.41\n",
            "Epoch [105/300] d_loss: 1.2988 g_loss: 1.1949 D(x):0.56 D(G(z)): 0.40\n",
            "Epoch [106/300] d_loss: 1.0202 g_loss: 1.0954 D(x):0.73 D(G(z)): 0.42\n",
            "Epoch [107/300] d_loss: 1.2588 g_loss: 0.8766 D(x):0.55 D(G(z)): 0.43\n",
            "Epoch [108/300] d_loss: 1.0091 g_loss: 1.2643 D(x):0.63 D(G(z)): 0.34\n",
            "Epoch [109/300] d_loss: 1.1680 g_loss: 1.2472 D(x):0.61 D(G(z)): 0.36\n",
            "Epoch [110/300] d_loss: 1.1722 g_loss: 1.0090 D(x):0.58 D(G(z)): 0.39\n",
            "Epoch [111/300] d_loss: 1.1479 g_loss: 1.1356 D(x):0.60 D(G(z)): 0.35\n",
            "Epoch [112/300] d_loss: 1.2890 g_loss: 1.2383 D(x):0.60 D(G(z)): 0.36\n",
            "Epoch [113/300] d_loss: 1.0174 g_loss: 1.1813 D(x):0.63 D(G(z)): 0.35\n",
            "Epoch [114/300] d_loss: 1.1753 g_loss: 1.2209 D(x):0.61 D(G(z)): 0.35\n",
            "Epoch [115/300] d_loss: 1.2467 g_loss: 1.0712 D(x):0.58 D(G(z)): 0.42\n",
            "Epoch [116/300] d_loss: 1.1962 g_loss: 1.1041 D(x):0.57 D(G(z)): 0.38\n",
            "Epoch [117/300] d_loss: 1.2522 g_loss: 0.9904 D(x):0.61 D(G(z)): 0.42\n",
            "Epoch [118/300] d_loss: 1.1566 g_loss: 1.5662 D(x):0.60 D(G(z)): 0.31\n",
            "Epoch [119/300] d_loss: 1.1507 g_loss: 1.2108 D(x):0.58 D(G(z)): 0.35\n",
            "Epoch [120/300] d_loss: 1.2124 g_loss: 0.9112 D(x):0.61 D(G(z)): 0.43\n",
            "Epoch [121/300] d_loss: 1.1944 g_loss: 1.1050 D(x):0.58 D(G(z)): 0.38\n",
            "Epoch [122/300] d_loss: 1.2303 g_loss: 1.2885 D(x):0.59 D(G(z)): 0.35\n",
            "Epoch [123/300] d_loss: 1.2895 g_loss: 0.9528 D(x):0.56 D(G(z)): 0.41\n",
            "Epoch [124/300] d_loss: 1.1811 g_loss: 1.1073 D(x):0.58 D(G(z)): 0.36\n",
            "Epoch [125/300] d_loss: 1.1875 g_loss: 0.8901 D(x):0.61 D(G(z)): 0.44\n",
            "Epoch [126/300] d_loss: 1.3028 g_loss: 1.0960 D(x):0.56 D(G(z)): 0.39\n",
            "Epoch [127/300] d_loss: 1.0115 g_loss: 1.0489 D(x):0.65 D(G(z)): 0.37\n",
            "Epoch [128/300] d_loss: 1.1208 g_loss: 1.2012 D(x):0.59 D(G(z)): 0.37\n",
            "Epoch [129/300] d_loss: 1.0891 g_loss: 0.9874 D(x):0.61 D(G(z)): 0.37\n",
            "Epoch [130/300] d_loss: 1.1913 g_loss: 1.2673 D(x):0.59 D(G(z)): 0.37\n",
            "Epoch [131/300] d_loss: 1.2381 g_loss: 1.1067 D(x):0.59 D(G(z)): 0.39\n",
            "Epoch [132/300] d_loss: 1.1613 g_loss: 1.1166 D(x):0.67 D(G(z)): 0.41\n",
            "Epoch [133/300] d_loss: 1.3391 g_loss: 1.0400 D(x):0.53 D(G(z)): 0.41\n",
            "Epoch [134/300] d_loss: 1.1819 g_loss: 0.9407 D(x):0.57 D(G(z)): 0.42\n",
            "Epoch [135/300] d_loss: 1.3228 g_loss: 1.1245 D(x):0.56 D(G(z)): 0.40\n",
            "Epoch [136/300] d_loss: 1.1349 g_loss: 1.1301 D(x):0.59 D(G(z)): 0.33\n",
            "Epoch [137/300] d_loss: 1.2852 g_loss: 1.0385 D(x):0.53 D(G(z)): 0.37\n",
            "Epoch [138/300] d_loss: 1.2733 g_loss: 1.2380 D(x):0.57 D(G(z)): 0.40\n",
            "Epoch [139/300] d_loss: 1.2232 g_loss: 0.9983 D(x):0.57 D(G(z)): 0.39\n",
            "Epoch [140/300] d_loss: 1.1828 g_loss: 0.9540 D(x):0.60 D(G(z)): 0.40\n",
            "Epoch [141/300] d_loss: 1.1699 g_loss: 0.9445 D(x):0.59 D(G(z)): 0.40\n",
            "Epoch [142/300] d_loss: 1.2457 g_loss: 1.1428 D(x):0.53 D(G(z)): 0.37\n",
            "Epoch [143/300] d_loss: 1.1558 g_loss: 1.0652 D(x):0.59 D(G(z)): 0.38\n",
            "Epoch [144/300] d_loss: 1.3135 g_loss: 0.9871 D(x):0.56 D(G(z)): 0.44\n",
            "Epoch [145/300] d_loss: 1.1485 g_loss: 1.0260 D(x):0.67 D(G(z)): 0.44\n",
            "Epoch [146/300] d_loss: 1.2656 g_loss: 1.0401 D(x):0.57 D(G(z)): 0.40\n",
            "Epoch [147/300] d_loss: 1.3353 g_loss: 0.9953 D(x):0.51 D(G(z)): 0.41\n",
            "Epoch [148/300] d_loss: 1.1691 g_loss: 0.8568 D(x):0.60 D(G(z)): 0.42\n",
            "Epoch [149/300] d_loss: 1.1717 g_loss: 0.8849 D(x):0.62 D(G(z)): 0.45\n",
            "Epoch [150/300] d_loss: 1.1858 g_loss: 1.0002 D(x):0.60 D(G(z)): 0.41\n",
            "Epoch [151/300] d_loss: 1.1551 g_loss: 0.9453 D(x):0.62 D(G(z)): 0.43\n",
            "Epoch [152/300] d_loss: 1.0728 g_loss: 0.9632 D(x):0.64 D(G(z)): 0.40\n",
            "Epoch [153/300] d_loss: 1.1648 g_loss: 1.2143 D(x):0.61 D(G(z)): 0.39\n",
            "Epoch [154/300] d_loss: 1.2330 g_loss: 1.0424 D(x):0.53 D(G(z)): 0.37\n",
            "Epoch [155/300] d_loss: 0.8451 g_loss: 1.4254 D(x):0.69 D(G(z)): 0.29\n",
            "Epoch [156/300] d_loss: 0.9896 g_loss: 1.1228 D(x):0.64 D(G(z)): 0.36\n",
            "Epoch [157/300] d_loss: 1.2219 g_loss: 0.9407 D(x):0.62 D(G(z)): 0.45\n",
            "Epoch [158/300] d_loss: 1.1974 g_loss: 1.0070 D(x):0.59 D(G(z)): 0.42\n",
            "Epoch [159/300] d_loss: 1.1602 g_loss: 0.8274 D(x):0.60 D(G(z)): 0.44\n",
            "Epoch [160/300] d_loss: 1.2757 g_loss: 0.9937 D(x):0.55 D(G(z)): 0.42\n",
            "Epoch [161/300] d_loss: 1.2795 g_loss: 1.0597 D(x):0.54 D(G(z)): 0.41\n",
            "Epoch [162/300] d_loss: 1.3602 g_loss: 0.8331 D(x):0.62 D(G(z)): 0.51\n",
            "Epoch [163/300] d_loss: 1.1086 g_loss: 1.0908 D(x):0.61 D(G(z)): 0.39\n",
            "Epoch [164/300] d_loss: 1.1792 g_loss: 1.1858 D(x):0.64 D(G(z)): 0.36\n",
            "Epoch [165/300] d_loss: 1.1121 g_loss: 1.1953 D(x):0.59 D(G(z)): 0.37\n",
            "Epoch [166/300] d_loss: 1.0993 g_loss: 1.2669 D(x):0.60 D(G(z)): 0.36\n",
            "Epoch [167/300] d_loss: 1.1117 g_loss: 1.0239 D(x):0.62 D(G(z)): 0.39\n",
            "Epoch [168/300] d_loss: 1.1814 g_loss: 1.0755 D(x):0.61 D(G(z)): 0.39\n",
            "Epoch [169/300] d_loss: 1.3289 g_loss: 0.9075 D(x):0.54 D(G(z)): 0.43\n",
            "Epoch [170/300] d_loss: 1.4142 g_loss: 0.9359 D(x):0.56 D(G(z)): 0.45\n",
            "Epoch [171/300] d_loss: 1.2561 g_loss: 0.9669 D(x):0.57 D(G(z)): 0.42\n",
            "Epoch [172/300] d_loss: 1.1373 g_loss: 0.9819 D(x):0.60 D(G(z)): 0.41\n",
            "Epoch [173/300] d_loss: 1.1295 g_loss: 1.0672 D(x):0.62 D(G(z)): 0.37\n",
            "Epoch [174/300] d_loss: 1.3603 g_loss: 1.0385 D(x):0.58 D(G(z)): 0.43\n",
            "Epoch [175/300] d_loss: 1.2518 g_loss: 0.8986 D(x):0.56 D(G(z)): 0.43\n",
            "Epoch [176/300] d_loss: 1.2232 g_loss: 0.9564 D(x):0.57 D(G(z)): 0.40\n",
            "Epoch [177/300] d_loss: 1.0494 g_loss: 1.3799 D(x):0.66 D(G(z)): 0.35\n",
            "Epoch [178/300] d_loss: 1.0910 g_loss: 1.1491 D(x):0.70 D(G(z)): 0.40\n",
            "Epoch [179/300] d_loss: 1.2843 g_loss: 0.9740 D(x):0.56 D(G(z)): 0.43\n",
            "Epoch [180/300] d_loss: 1.1425 g_loss: 1.0436 D(x):0.63 D(G(z)): 0.42\n",
            "Epoch [181/300] d_loss: 1.0947 g_loss: 1.0469 D(x):0.61 D(G(z)): 0.39\n",
            "Epoch [182/300] d_loss: 1.1725 g_loss: 0.9787 D(x):0.58 D(G(z)): 0.40\n",
            "Epoch [183/300] d_loss: 1.2597 g_loss: 0.9921 D(x):0.58 D(G(z)): 0.44\n",
            "Epoch [184/300] d_loss: 1.3992 g_loss: 0.9472 D(x):0.56 D(G(z)): 0.47\n",
            "Epoch [185/300] d_loss: 1.1576 g_loss: 1.1339 D(x):0.61 D(G(z)): 0.39\n",
            "Epoch [186/300] d_loss: 1.1417 g_loss: 0.9369 D(x):0.62 D(G(z)): 0.42\n",
            "Epoch [187/300] d_loss: 1.2171 g_loss: 0.8725 D(x):0.56 D(G(z)): 0.42\n",
            "Epoch [188/300] d_loss: 1.2375 g_loss: 1.0267 D(x):0.61 D(G(z)): 0.43\n",
            "Epoch [189/300] d_loss: 1.2350 g_loss: 1.0655 D(x):0.57 D(G(z)): 0.40\n",
            "Epoch [190/300] d_loss: 1.2266 g_loss: 0.9472 D(x):0.60 D(G(z)): 0.45\n",
            "Epoch [191/300] d_loss: 1.3505 g_loss: 0.8523 D(x):0.53 D(G(z)): 0.46\n",
            "Epoch [192/300] d_loss: 1.2942 g_loss: 1.0529 D(x):0.58 D(G(z)): 0.42\n",
            "Epoch [193/300] d_loss: 1.3090 g_loss: 0.8979 D(x):0.54 D(G(z)): 0.42\n",
            "Epoch [194/300] d_loss: 1.1726 g_loss: 1.1342 D(x):0.61 D(G(z)): 0.38\n",
            "Epoch [195/300] d_loss: 1.2949 g_loss: 0.8946 D(x):0.54 D(G(z)): 0.45\n",
            "Epoch [196/300] d_loss: 1.3264 g_loss: 0.9265 D(x):0.52 D(G(z)): 0.42\n",
            "Epoch [197/300] d_loss: 1.0748 g_loss: 1.0941 D(x):0.67 D(G(z)): 0.39\n",
            "Epoch [198/300] d_loss: 1.2275 g_loss: 1.0183 D(x):0.59 D(G(z)): 0.43\n",
            "Epoch [199/300] d_loss: 1.2157 g_loss: 0.8598 D(x):0.60 D(G(z)): 0.44\n",
            "Epoch [200/300] d_loss: 1.1422 g_loss: 0.9749 D(x):0.63 D(G(z)): 0.42\n",
            "Epoch [201/300] d_loss: 1.2957 g_loss: 1.0944 D(x):0.58 D(G(z)): 0.40\n",
            "Epoch [202/300] d_loss: 1.2110 g_loss: 0.9747 D(x):0.57 D(G(z)): 0.41\n",
            "Epoch [203/300] d_loss: 1.1784 g_loss: 1.0590 D(x):0.61 D(G(z)): 0.40\n",
            "Epoch [204/300] d_loss: 1.2725 g_loss: 0.7784 D(x):0.56 D(G(z)): 0.47\n",
            "Epoch [205/300] d_loss: 1.3554 g_loss: 0.8662 D(x):0.61 D(G(z)): 0.48\n",
            "Epoch [206/300] d_loss: 1.1815 g_loss: 1.0414 D(x):0.60 D(G(z)): 0.40\n",
            "Epoch [207/300] d_loss: 1.2893 g_loss: 0.8649 D(x):0.55 D(G(z)): 0.45\n",
            "Epoch [208/300] d_loss: 1.2924 g_loss: 0.9588 D(x):0.55 D(G(z)): 0.41\n",
            "Epoch [209/300] d_loss: 1.3476 g_loss: 0.9790 D(x):0.48 D(G(z)): 0.40\n",
            "Epoch [210/300] d_loss: 1.2068 g_loss: 1.0138 D(x):0.59 D(G(z)): 0.42\n",
            "Epoch [211/300] d_loss: 1.2587 g_loss: 1.1928 D(x):0.58 D(G(z)): 0.40\n",
            "Epoch [212/300] d_loss: 1.2966 g_loss: 0.9004 D(x):0.58 D(G(z)): 0.44\n",
            "Epoch [213/300] d_loss: 1.1255 g_loss: 1.1304 D(x):0.62 D(G(z)): 0.37\n",
            "Epoch [214/300] d_loss: 1.0136 g_loss: 1.2607 D(x):0.63 D(G(z)): 0.30\n",
            "Epoch [215/300] d_loss: 1.2351 g_loss: 0.9919 D(x):0.58 D(G(z)): 0.41\n",
            "Epoch [216/300] d_loss: 1.1529 g_loss: 1.0469 D(x):0.57 D(G(z)): 0.37\n",
            "Epoch [217/300] d_loss: 1.2018 g_loss: 0.9565 D(x):0.59 D(G(z)): 0.42\n",
            "Epoch [218/300] d_loss: 1.1668 g_loss: 1.0643 D(x):0.63 D(G(z)): 0.41\n",
            "Epoch [219/300] d_loss: 1.1171 g_loss: 1.0511 D(x):0.63 D(G(z)): 0.41\n",
            "Epoch [220/300] d_loss: 1.2379 g_loss: 0.9235 D(x):0.59 D(G(z)): 0.44\n",
            "Epoch [221/300] d_loss: 1.2326 g_loss: 0.8802 D(x):0.58 D(G(z)): 0.45\n",
            "Epoch [222/300] d_loss: 1.1958 g_loss: 0.9516 D(x):0.56 D(G(z)): 0.41\n",
            "Epoch [223/300] d_loss: 1.2019 g_loss: 0.9872 D(x):0.59 D(G(z)): 0.39\n",
            "Epoch [224/300] d_loss: 1.1365 g_loss: 1.1132 D(x):0.64 D(G(z)): 0.41\n",
            "Epoch [225/300] d_loss: 1.3081 g_loss: 0.9089 D(x):0.55 D(G(z)): 0.44\n",
            "Epoch [226/300] d_loss: 1.0523 g_loss: 1.0543 D(x):0.65 D(G(z)): 0.40\n",
            "Epoch [227/300] d_loss: 1.2981 g_loss: 0.9931 D(x):0.54 D(G(z)): 0.42\n",
            "Epoch [228/300] d_loss: 1.2369 g_loss: 1.0110 D(x):0.58 D(G(z)): 0.41\n",
            "Epoch [229/300] d_loss: 1.2114 g_loss: 1.0362 D(x):0.58 D(G(z)): 0.40\n",
            "Epoch [230/300] d_loss: 1.2689 g_loss: 0.8265 D(x):0.57 D(G(z)): 0.45\n",
            "Epoch [231/300] d_loss: 1.2111 g_loss: 0.8881 D(x):0.57 D(G(z)): 0.42\n",
            "Epoch [232/300] d_loss: 1.2135 g_loss: 1.0803 D(x):0.55 D(G(z)): 0.38\n",
            "Epoch [233/300] d_loss: 1.1640 g_loss: 0.9209 D(x):0.62 D(G(z)): 0.44\n",
            "Epoch [234/300] d_loss: 1.4133 g_loss: 0.9308 D(x):0.52 D(G(z)): 0.42\n",
            "Epoch [235/300] d_loss: 1.1369 g_loss: 0.9665 D(x):0.65 D(G(z)): 0.44\n",
            "Epoch [236/300] d_loss: 1.3655 g_loss: 0.9276 D(x):0.51 D(G(z)): 0.44\n",
            "Epoch [237/300] d_loss: 1.2134 g_loss: 1.0523 D(x):0.61 D(G(z)): 0.41\n",
            "Epoch [238/300] d_loss: 1.1737 g_loss: 1.0924 D(x):0.59 D(G(z)): 0.39\n",
            "Epoch [239/300] d_loss: 1.2538 g_loss: 1.3204 D(x):0.55 D(G(z)): 0.35\n",
            "Epoch [240/300] d_loss: 1.1709 g_loss: 0.9660 D(x):0.60 D(G(z)): 0.42\n",
            "Epoch [241/300] d_loss: 1.2189 g_loss: 1.0821 D(x):0.52 D(G(z)): 0.36\n",
            "Epoch [242/300] d_loss: 1.2304 g_loss: 0.9576 D(x):0.60 D(G(z)): 0.43\n",
            "Epoch [243/300] d_loss: 1.2044 g_loss: 0.9049 D(x):0.61 D(G(z)): 0.42\n",
            "Epoch [244/300] d_loss: 1.4079 g_loss: 0.7872 D(x):0.55 D(G(z)): 0.48\n",
            "Epoch [245/300] d_loss: 1.1755 g_loss: 0.8802 D(x):0.63 D(G(z)): 0.44\n",
            "Epoch [246/300] d_loss: 1.1400 g_loss: 1.0803 D(x):0.58 D(G(z)): 0.36\n",
            "Epoch [247/300] d_loss: 1.1640 g_loss: 0.8793 D(x):0.60 D(G(z)): 0.42\n",
            "Epoch [248/300] d_loss: 1.3079 g_loss: 0.9127 D(x):0.54 D(G(z)): 0.44\n",
            "Epoch [249/300] d_loss: 1.2372 g_loss: 1.0437 D(x):0.61 D(G(z)): 0.42\n",
            "Epoch [250/300] d_loss: 1.2516 g_loss: 0.9226 D(x):0.54 D(G(z)): 0.41\n",
            "Epoch [251/300] d_loss: 1.2473 g_loss: 1.0814 D(x):0.58 D(G(z)): 0.41\n",
            "Epoch [252/300] d_loss: 1.2576 g_loss: 1.1903 D(x):0.57 D(G(z)): 0.37\n",
            "Epoch [253/300] d_loss: 1.2588 g_loss: 1.3510 D(x):0.59 D(G(z)): 0.39\n",
            "Epoch [254/300] d_loss: 1.1968 g_loss: 0.9262 D(x):0.63 D(G(z)): 0.45\n",
            "Epoch [255/300] d_loss: 1.1595 g_loss: 0.8165 D(x):0.59 D(G(z)): 0.44\n",
            "Epoch [256/300] d_loss: 1.3491 g_loss: 0.8175 D(x):0.56 D(G(z)): 0.47\n",
            "Epoch [257/300] d_loss: 1.3165 g_loss: 0.9515 D(x):0.56 D(G(z)): 0.44\n",
            "Epoch [258/300] d_loss: 1.0909 g_loss: 1.0669 D(x):0.65 D(G(z)): 0.42\n",
            "Epoch [259/300] d_loss: 1.2777 g_loss: 1.0717 D(x):0.61 D(G(z)): 0.44\n",
            "Epoch [260/300] d_loss: 1.2662 g_loss: 0.8737 D(x):0.58 D(G(z)): 0.46\n",
            "Epoch [261/300] d_loss: 1.4374 g_loss: 1.0169 D(x):0.53 D(G(z)): 0.47\n",
            "Epoch [262/300] d_loss: 1.3186 g_loss: 0.9066 D(x):0.53 D(G(z)): 0.45\n",
            "Epoch [263/300] d_loss: 1.2444 g_loss: 0.8908 D(x):0.58 D(G(z)): 0.43\n",
            "Epoch [264/300] d_loss: 1.3601 g_loss: 1.1251 D(x):0.56 D(G(z)): 0.41\n",
            "Epoch [265/300] d_loss: 1.2175 g_loss: 0.9612 D(x):0.58 D(G(z)): 0.42\n",
            "Epoch [266/300] d_loss: 1.1318 g_loss: 1.0597 D(x):0.58 D(G(z)): 0.37\n",
            "Epoch [267/300] d_loss: 1.1759 g_loss: 0.9842 D(x):0.61 D(G(z)): 0.42\n",
            "Epoch [268/300] d_loss: 1.2934 g_loss: 0.9041 D(x):0.55 D(G(z)): 0.43\n",
            "Epoch [269/300] d_loss: 1.2252 g_loss: 0.9028 D(x):0.56 D(G(z)): 0.42\n",
            "Epoch [270/300] d_loss: 1.3112 g_loss: 0.8925 D(x):0.54 D(G(z)): 0.45\n",
            "Epoch [271/300] d_loss: 1.1915 g_loss: 1.0738 D(x):0.58 D(G(z)): 0.39\n",
            "Epoch [272/300] d_loss: 1.3731 g_loss: 0.8175 D(x):0.56 D(G(z)): 0.47\n",
            "Epoch [273/300] d_loss: 1.3024 g_loss: 1.0390 D(x):0.58 D(G(z)): 0.44\n",
            "Epoch [274/300] d_loss: 1.2983 g_loss: 0.8240 D(x):0.59 D(G(z)): 0.48\n",
            "Epoch [275/300] d_loss: 1.1145 g_loss: 1.0190 D(x):0.59 D(G(z)): 0.39\n",
            "Epoch [276/300] d_loss: 1.2579 g_loss: 1.0599 D(x):0.57 D(G(z)): 0.42\n",
            "Epoch [277/300] d_loss: 1.2823 g_loss: 0.9275 D(x):0.55 D(G(z)): 0.43\n",
            "Epoch [278/300] d_loss: 1.2512 g_loss: 0.8376 D(x):0.58 D(G(z)): 0.45\n",
            "Epoch [279/300] d_loss: 1.2090 g_loss: 1.0884 D(x):0.58 D(G(z)): 0.40\n",
            "Epoch [280/300] d_loss: 1.1377 g_loss: 1.1341 D(x):0.61 D(G(z)): 0.36\n",
            "Epoch [281/300] d_loss: 1.0641 g_loss: 1.2246 D(x):0.65 D(G(z)): 0.36\n",
            "Epoch [282/300] d_loss: 1.2141 g_loss: 0.9469 D(x):0.59 D(G(z)): 0.42\n",
            "Epoch [283/300] d_loss: 1.2140 g_loss: 1.0580 D(x):0.56 D(G(z)): 0.39\n",
            "Epoch [284/300] d_loss: 1.2284 g_loss: 0.9129 D(x):0.62 D(G(z)): 0.45\n",
            "Epoch [285/300] d_loss: 1.2130 g_loss: 1.0833 D(x):0.58 D(G(z)): 0.41\n",
            "Epoch [286/300] d_loss: 1.3143 g_loss: 0.9915 D(x):0.51 D(G(z)): 0.40\n",
            "Epoch [287/300] d_loss: 1.2750 g_loss: 0.8392 D(x):0.54 D(G(z)): 0.43\n",
            "Epoch [288/300] d_loss: 1.3606 g_loss: 0.8956 D(x):0.54 D(G(z)): 0.45\n",
            "Epoch [289/300] d_loss: 1.0904 g_loss: 0.9943 D(x):0.61 D(G(z)): 0.38\n",
            "Epoch [290/300] d_loss: 1.2550 g_loss: 0.8850 D(x):0.54 D(G(z)): 0.43\n",
            "Epoch [291/300] d_loss: 1.2633 g_loss: 0.8169 D(x):0.57 D(G(z)): 0.45\n",
            "Epoch [292/300] d_loss: 1.3177 g_loss: 0.9354 D(x):0.54 D(G(z)): 0.44\n",
            "Epoch [293/300] d_loss: 1.2726 g_loss: 0.8572 D(x):0.58 D(G(z)): 0.47\n",
            "Epoch [294/300] d_loss: 1.2369 g_loss: 0.9898 D(x):0.55 D(G(z)): 0.40\n",
            "Epoch [295/300] d_loss: 1.2519 g_loss: 0.9633 D(x):0.56 D(G(z)): 0.41\n",
            "Epoch [296/300] d_loss: 1.2265 g_loss: 0.9923 D(x):0.57 D(G(z)): 0.41\n",
            "Epoch [297/300] d_loss: 1.1761 g_loss: 0.9725 D(x):0.60 D(G(z)): 0.39\n",
            "Epoch [298/300] d_loss: 1.2085 g_loss: 1.1147 D(x):0.58 D(G(z)): 0.40\n",
            "Epoch [299/300] d_loss: 1.2384 g_loss: 1.0965 D(x):0.60 D(G(z)): 0.42\n",
            "Epoch [300/300] d_loss: 1.2754 g_loss: 1.1953 D(x):0.55 D(G(z)): 0.38\n"
          ],
          "name": "stdout"
        }
      ]
    },
    {
      "cell_type": "code",
      "metadata": {
        "colab": {
          "base_uri": "https://localhost:8080/",
          "height": 1000
        },
        "id": "zL-vkWoB5mVI",
        "outputId": "8b66c396-f195-42ff-a93c-bf3f243b8e2e"
      },
      "source": [
        "# 생성자가 만든 이미지 시각화\n",
        "import numpy as np\n",
        "\n",
        "z = torch.randn(batch_size, 64).to(device)\n",
        "fake_images = G(z)\n",
        "for i in range(10):\n",
        "  fake_images_img = np.reshape(fake_images.data.cpu().numpy()[i], (28,28))\n",
        "  plt.imshow(fake_images_img, cmap='gray')\n",
        "  plt.show()"
      ],
      "execution_count": 16,
      "outputs": [
        {
          "output_type": "display_data",
          "data": {
            "image/png": "[encoded data removed]",
            "text/plain": [
              "<Figure size 432x288 with 1 Axes>"
            ]
          },
          "metadata": {
            "tags": [],
            "needs_background": "light"
          }
        },
        {
          "output_type": "display_data",
          "data": {
            "image/png": "[encoded data removed]",
            "text/plain": [
              "<Figure size 432x288 with 1 Axes>"
            ]
          },
          "metadata": {
            "tags": [],
            "needs_background": "light"
          }
        },
        {
          "output_type": "display_data",
          "data": {
            "image/png": "[encoded data removed]",
            "text/plain": [
              "<Figure size 432x288 with 1 Axes>"
            ]
          },
          "metadata": {
            "tags": [],
            "needs_background": "light"
          }
        },
        {
          "output_type": "display_data",
          "data": {
            "image/png": "[encoded data removed]",
            "text/plain": [
              "<Figure size 432x288 with 1 Axes>"
            ]
          },
          "metadata": {
            "tags": [],
            "needs_background": "light"
          }
        },
        {
          "output_type": "display_data",
          "data": {
            "image/png": "[encoded data removed]",
            "text/plain": [
              "<Figure size 432x288 with 1 Axes>"
            ]
          },
          "metadata": {
            "tags": [],
            "needs_background": "light"
          }
        },
        {
          "output_type": "display_data",
          "data": {
            "image/png": "[encoded data removed]",
            "text/plain": [
              "<Figure size 432x288 with 1 Axes>"
            ]
          },
          "metadata": {
            "tags": [],
            "needs_background": "light"
          }
        },
        {
          "output_type": "display_data",
          "data": {
            "image/png": "[encoded data removed]",
            "text/plain": [
              "<Figure size 432x288 with 1 Axes>"
            ]
          },
          "metadata": {
            "tags": [],
            "needs_background": "light"
          }
        },
        {
          "output_type": "display_data",
          "data": {
            "image/png": "[encoded data removed]",
            "text/plain": [
              "<Figure size 432x288 with 1 Axes>"
            ]
          },
          "metadata": {
            "tags": [],
            "needs_background": "light"
          }
        },
        {
          "output_type": "display_data",
          "data": {
            "image/png": "[encoded data removed]",
            "text/plain": [
              "<Figure size 432x288 with 1 Axes>"
            ]
          },
          "metadata": {
            "tags": [],
            "needs_background": "light"
          }
        },
        {
          "output_type": "display_data",
          "data": {
            "image/png": "[encoded data removed]",
            "text/plain": [
              "<Figure size 432x288 with 1 Axes>"
            ]
          },
          "metadata": {
            "tags": [],
            "needs_background": "light"
          }
        }
      ]
    },
    {
      "cell_type": "code",
      "metadata": {
        "id": "P9zfOBP-5sH4"
      },
      "source": [
        ""
      ],
      "execution_count": null,
      "outputs": []
    }
  ]
}