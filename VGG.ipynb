{
  "nbformat": 4,
  "nbformat_minor": 0,
  "metadata": {
    "colab": {
      "name": "VGG.ipynb",
      "private_outputs": true,
      "provenance": [],
      "collapsed_sections": []
    },
    "kernelspec": {
      "name": "python3",
      "display_name": "Python 3"
    }
  },
  "cells": [
    {
      "cell_type": "code",
      "metadata": {
        "id": "EIs_PXZtNCgM"
      },
      "source": [
        "import torch.nn as nn\r\n",
        "import torch.utils.model_zoo as model_zoo"
      ],
      "execution_count": null,
      "outputs": []
    },
    {
      "cell_type": "code",
      "metadata": {
        "id": "b3QqsdHHNL21"
      },
      "source": [
        "__all__ = [\r\n",
        "    'VGG', 'vgg11', 'vgg11_bn', 'vgg13', 'vgg13_bn', 'vgg16', 'vgg16_bn',\r\n",
        "    'vgg19_bn', 'vgg19',\r\n",
        "]\r\n",
        "\r\n",
        "\r\n",
        "model_urls = {\r\n",
        "    'vgg11': 'https://download.pytorch.org/models/vgg11-bbd30ac9.pth',\r\n",
        "    'vgg13': 'https://download.pytorch.org/models/vgg13-c768596a.pth',\r\n",
        "    'vgg16': 'https://download.pytorch.org/models/vgg16-397923af.pth',\r\n",
        "    'vgg19': 'https://download.pytorch.org/models/vgg19-dcbb9e9d.pth',\r\n",
        "    'vgg11_bn': 'https://download.pytorch.org/models/vgg11_bn-6002323d.pth',\r\n",
        "    'vgg13_bn': 'https://download.pytorch.org/models/vgg13_bn-abd245e5.pth',\r\n",
        "    'vgg16_bn': 'https://download.pytorch.org/models/vgg16_bn-6c64b313.pth',\r\n",
        "    'vgg19_bn': 'https://download.pytorch.org/models/vgg19_bn-c79401a0.pth',\r\n",
        "}"
      ],
      "execution_count": null,
      "outputs": []
    },
    {
      "cell_type": "code",
      "metadata": {
        "id": "AoQmRyxuNrX0"
      },
      "source": [
        "class VGG(nn.Module):\r\n",
        "\r\n",
        "    def __init__(self, features, num_classes=1000, init_weights=True):\r\n",
        "        super(VGG, self).__init__()\r\n",
        "        \r\n",
        "        self.features = features # Convolution\r\n",
        "\r\n",
        "        self.avgpool = nn.AdaptiveAvgPool2d((7,7))\r\n",
        "        \r\n",
        "        self.classifier = nn.Sequential(\r\n",
        "            nn.Linear(512*7*7, 4096),\r\n",
        "            nn.ReLU(True),\r\n",
        "            nn.Dropout(),\r\n",
        "            nn.Linear(4096, 4096),\r\n",
        "            nn.ReLU(True),\r\n",
        "            nn.Dropout(),\r\n",
        "            nn.Linear(4096, num_classes)\r\n",
        "        ) # FC layer\r\n",
        "\r\n",
        "        if init_weights:\r\n",
        "            self._initialize_weights()\r\n",
        "\r\n",
        "    def forward(self, x):\r\n",
        "        x = self.features(x) # Convolution\r\n",
        "        x = self.avgpool(x) # avgpool\r\n",
        "        x = x.view(x.size(0), -1)\r\n",
        "        x = self.classifier(x) # FC layer\r\n",
        "        return x\r\n",
        "\r\n",
        "    def _initialize_weights(self):\r\n",
        "        for m in self.modules():\r\n",
        "            if isinstance(m, nn.Conv2d):\r\n",
        "                nn.init.kaiming_normal_(m.weight, mode='fan_out', nonlinearity='relu') # mode='fan_out : backwards pass\r\n",
        "                if m.bias is not None:\r\n",
        "                    nn.init.constant_(m.bias, 0)\r\n",
        "            elif isinstance(m, nn.BatchNorm2d):\r\n",
        "                nn.init.constant_(m.weight, 1)\r\n",
        "                nn.init.constant_(m.bias, 0)\r\n",
        "            elif isinstance(m, nn.Linear):\r\n",
        "                nn.init.normal_(m.weight, 0, 0.01)\r\n",
        "                nn.init.constant_(m.bias, 0)"
      ],
      "execution_count": null,
      "outputs": []
    },
    {
      "cell_type": "code",
      "metadata": {
        "id": "1Y5aQwrCSVkV"
      },
      "source": [
        "# 'A': [64, 'M', 128, 'M', 256, 256, 'M', 512, 512, 'M', 512, 512, 'M']\r\n",
        "\r\n",
        "# model = make_layer(cfg['A'], batch_norm=False)\r\n",
        "\r\n",
        "def make_layers(cfg, batch_norm=False):\r\n",
        "    layers = []\r\n",
        "    in_channels = 3\r\n",
        "    \r\n",
        "    for v in cfg:\r\n",
        "        if v == 'M':\r\n",
        "            layers += [nn.MaxPool2d(kernel_size=2, stride=2)]\r\n",
        "        else:\r\n",
        "            conv2d = nn.Conv2d(in_channels, v, kernel_size=3, padding=1)\r\n",
        "            if batch_norm:\r\n",
        "                layers += [conv2d, nn.BatchNorm2d(v), nn.ReLU(inplace=True)]\r\n",
        "            else:\r\n",
        "                layers += [conv2d, nn.ReLU(inplace=True)]\r\n",
        "            in_channels = v\r\n",
        "\r\n",
        "    return nn.Sequential(*layers)"
      ],
      "execution_count": null,
      "outputs": []
    },
    {
      "cell_type": "code",
      "metadata": {
        "id": "wpn8_Kski6u-"
      },
      "source": [
        "# conv2d = nn.Conv2d(3, 64, kernel_size=3, padding=1), #1\r\n",
        "# nn.ReLU(inplace=True)\r\n",
        "\r\n",
        "# nn.MaxPool2d(kernel_size=2, stride=2)\r\n",
        "\r\n",
        "# conv2d = nn.Conv3d(64, 128, kernel_size=3, padding=1) #2\r\n",
        "# nn.ReLU(inplace=True)\r\n",
        "\r\n",
        "# nn.MaxPool2d(kernel_size=2, stride=2)\r\n",
        "\r\n",
        "# conv2d = nn.Conv2d(128, 256, kernel_size=3, padding=1) #3\r\n",
        "# nn.ReLU(inplace=True)\r\n",
        "\r\n",
        "# nn.MaxPool2d(kernel_size=2, stride=2)\r\n",
        "\r\n",
        "# conv2d = nn.Conv2d(256, 256, kernel_size=3, padding=1) #4\r\n",
        "# nn.ReLU(inplace=True)\r\n",
        "\r\n",
        "# nn.MaxPool2d(kernel_size=2, stride=2)\r\n",
        "\r\n",
        "# conv2d = nn.Conv2d(256, 512, kernel_size=3, padding=1) #5\r\n",
        "# nn.ReLU(inplace=True)\r\n",
        "\r\n",
        "# nn.MaxPool2d(kernel_size=2, stride=2)\r\n",
        "\r\n",
        "# conv2d = nn.Conv2d(512, 512, kernel_size=3, padding=1) #6\r\n",
        "# nn.ReLU(inplace=True)\r\n",
        "\r\n",
        "# nn.MaxPool2d(kernel_size=2, stride=2)\r\n",
        "\r\n",
        "# conv2d = nn.Conv2d(512, 512, kernel_size=3, padding=1) #7\r\n",
        "# nn.ReLU(inplace=True)\r\n",
        "\r\n",
        "# nn.MaxPool2d(kernel_size=2, stride=2)\r\n",
        "\r\n",
        "# conv2d = nn.Conv2d(512, 512, kernel_size=3, padding=1) #8\r\n",
        "# nn.ReLU(inplace=True)\r\n",
        "\r\n",
        "# nn.MaxPool2d(kernel_size=2, stride=2)"
      ],
      "execution_count": null,
      "outputs": []
    },
    {
      "cell_type": "code",
      "metadata": {
        "id": "sX8_bB6KgsKD"
      },
      "source": [
        "cfg = {\r\n",
        "    'A': [64, 'M', 128, 'M', 256, 256, 'M', 512, 512, 'M', 512, 512, 'M'], #8 + 3 =11 == vgg11\r\n",
        "    'B': [64, 64, 'M', 128, 128, 'M', 256, 256, 'M', 512, 512, 'M', 512, 512, 'M'], # 10 + 3 = vgg 13\r\n",
        "    'D': [64, 64, 'M', 128, 128, 'M', 256, 256, 256, 'M', 512, 512, 512, 'M', 512, 512, 512, 'M'], #13 + 3 = vgg 16\r\n",
        "    'E': [64, 64, 'M', 128, 128, 'M', 256, 256, 256, 256, 'M', 512, 512, 512, 512, 'M', 512, 512, 512, 512, 'M'], # 16 +3 =vgg 19\r\n",
        "    'custom' : [64,64,64,'M',128,128,128,'M',256,256,256,'M']\r\n",
        "}"
      ],
      "execution_count": null,
      "outputs": []
    },
    {
      "cell_type": "code",
      "metadata": {
        "id": "kMzZfu-ggv4R"
      },
      "source": [
        "conv = make_layers(cfg['A'])"
      ],
      "execution_count": null,
      "outputs": []
    },
    {
      "cell_type": "code",
      "metadata": {
        "id": "C2XPQDLBlH19"
      },
      "source": [
        "conv"
      ],
      "execution_count": null,
      "outputs": []
    },
    {
      "cell_type": "code",
      "metadata": {
        "id": "5GxMY3y1lOzy"
      },
      "source": [
        "conv = make_layers(cfg['custom'], batch_norm=True)"
      ],
      "execution_count": null,
      "outputs": []
    },
    {
      "cell_type": "code",
      "metadata": {
        "id": "KhO3of7boNdA"
      },
      "source": [
        "CNN = VGG(make_layers(cfg['custom']), num_classes=10, init_weights=True)"
      ],
      "execution_count": null,
      "outputs": []
    },
    {
      "cell_type": "code",
      "metadata": {
        "id": "Nd3rtwBXoWEA"
      },
      "source": [
        "CNN"
      ],
      "execution_count": null,
      "outputs": []
    },
    {
      "cell_type": "code",
      "metadata": {
        "id": "D9q1uhxZobCg"
      },
      "source": [
        ""
      ],
      "execution_count": null,
      "outputs": []
    }
  ]
}